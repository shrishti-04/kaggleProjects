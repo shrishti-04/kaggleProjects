{
 "cells": [
  {
   "cell_type": "markdown",
   "id": "4d0835a5",
   "metadata": {
    "id": "view-in-github",
    "papermill": {
     "duration": 0.027636,
     "end_time": "2023-01-01T14:52:00.375034",
     "exception": false,
     "start_time": "2023-01-01T14:52:00.347398",
     "status": "completed"
    },
    "tags": []
   },
   "source": [
    "<a href=\"https://colab.research.google.com/github/shrishti-04/DataAnalytics_Pandas_Numpy_Matplotlib_Seaborn/blob/master/Pandas_Series_Fundamentals.ipynb\" target=\"_parent\"><img src=\"https://colab.research.google.com/assets/colab-badge.svg\" alt=\"Open In Colab\"/></a>"
   ]
  },
  {
   "cell_type": "markdown",
   "id": "f1609085",
   "metadata": {
    "id": "1ivPDcc7p8lD",
    "papermill": {
     "duration": 0.022406,
     "end_time": "2023-01-01T14:52:00.421285",
     "exception": false,
     "start_time": "2023-01-01T14:52:00.398879",
     "status": "completed"
    },
    "tags": []
   },
   "source": [
    "# 1. DEFINE A PANDAS SERIES (WITH NUMERIC DEFAULT INDEX)"
   ]
  },
  {
   "cell_type": "code",
   "execution_count": 1,
   "id": "b6bb3dcf",
   "metadata": {
    "execution": {
     "iopub.execute_input": "2023-01-01T14:52:00.469581Z",
     "iopub.status.busy": "2023-01-01T14:52:00.469117Z",
     "iopub.status.idle": "2023-01-01T14:52:00.475381Z",
     "shell.execute_reply": "2023-01-01T14:52:00.474105Z"
    },
    "id": "4YdCraz8p_XF",
    "papermill": {
     "duration": 0.033928,
     "end_time": "2023-01-01T14:52:00.477942",
     "exception": false,
     "start_time": "2023-01-01T14:52:00.444014",
     "status": "completed"
    },
    "tags": []
   },
   "outputs": [],
   "source": [
    "# Pandas is a data manipulation and analysis tool that is built on Numpy.\n",
    "# Pandas uses a data structure known as DataFrame (think of it as Microsoft excel in Python). \n",
    "# DataFrames empower programmers to store and manipulate data in a tabular fashion (rows and columns).\n",
    "# Series Vs. DataFrame? Series is considered a single column of a DataFrame."
   ]
  },
  {
   "cell_type": "code",
   "execution_count": 2,
   "id": "932f1761",
   "metadata": {
    "execution": {
     "iopub.execute_input": "2023-01-01T14:52:00.525696Z",
     "iopub.status.busy": "2023-01-01T14:52:00.525249Z",
     "iopub.status.idle": "2023-01-01T14:52:00.534800Z",
     "shell.execute_reply": "2023-01-01T14:52:00.533558Z"
    },
    "id": "6H2808pkqKIR",
    "papermill": {
     "duration": 0.036042,
     "end_time": "2023-01-01T14:52:00.537022",
     "exception": false,
     "start_time": "2023-01-01T14:52:00.500980",
     "status": "completed"
    },
    "tags": []
   },
   "outputs": [],
   "source": [
    "import pandas as pd"
   ]
  },
  {
   "cell_type": "code",
   "execution_count": 3,
   "id": "d5f0f6c8",
   "metadata": {
    "execution": {
     "iopub.execute_input": "2023-01-01T14:52:00.584867Z",
     "iopub.status.busy": "2023-01-01T14:52:00.584436Z",
     "iopub.status.idle": "2023-01-01T14:52:00.594784Z",
     "shell.execute_reply": "2023-01-01T14:52:00.593579Z"
    },
    "id": "SA9m0RD3K2TF",
    "outputId": "76eba170-8c59-4bd6-d5b1-f7fb10649a1a",
    "papermill": {
     "duration": 0.038111,
     "end_time": "2023-01-01T14:52:00.597931",
     "exception": false,
     "start_time": "2023-01-01T14:52:00.559820",
     "status": "completed"
    },
    "tags": []
   },
   "outputs": [
    {
     "data": {
      "text/plain": [
       "['NVDA', 'MSFT', 'FB', 'AMZN', 'BA']"
      ]
     },
     "execution_count": 3,
     "metadata": {},
     "output_type": "execute_result"
    }
   ],
   "source": [
    "# Let's define a Python list that contains 5 stocks: Nvidia, Microsoft, FaceBook, Amazon, and Boeing\n",
    "my_list = ['NVDA', 'MSFT', 'FB', 'AMZN', 'BA']\n",
    "my_list"
   ]
  },
  {
   "cell_type": "code",
   "execution_count": 4,
   "id": "c16805bd",
   "metadata": {
    "execution": {
     "iopub.execute_input": "2023-01-01T14:52:00.649437Z",
     "iopub.status.busy": "2023-01-01T14:52:00.648974Z",
     "iopub.status.idle": "2023-01-01T14:52:00.656196Z",
     "shell.execute_reply": "2023-01-01T14:52:00.655037Z"
    },
    "id": "G-fooAckNafC",
    "outputId": "83c640ff-fa1a-4afc-d26e-4ea3ea4d0d6a",
    "papermill": {
     "duration": 0.035512,
     "end_time": "2023-01-01T14:52:00.658440",
     "exception": false,
     "start_time": "2023-01-01T14:52:00.622928",
     "status": "completed"
    },
    "tags": []
   },
   "outputs": [
    {
     "data": {
      "text/plain": [
       "list"
      ]
     },
     "execution_count": 4,
     "metadata": {},
     "output_type": "execute_result"
    }
   ],
   "source": [
    "# Let's confirm the Datatype\n",
    "type(my_list)"
   ]
  },
  {
   "cell_type": "code",
   "execution_count": 5,
   "id": "c44c559d",
   "metadata": {
    "execution": {
     "iopub.execute_input": "2023-01-01T14:52:00.709432Z",
     "iopub.status.busy": "2023-01-01T14:52:00.708260Z",
     "iopub.status.idle": "2023-01-01T14:52:00.720197Z",
     "shell.execute_reply": "2023-01-01T14:52:00.719370Z"
    },
    "id": "hle4zw51K6-P",
    "outputId": "ca3e1e9a-14ca-4034-f130-e26a707f278a",
    "papermill": {
     "duration": 0.040141,
     "end_time": "2023-01-01T14:52:00.722382",
     "exception": false,
     "start_time": "2023-01-01T14:52:00.682241",
     "status": "completed"
    },
    "tags": []
   },
   "outputs": [
    {
     "data": {
      "text/plain": [
       "0    NVDA\n",
       "1    MSFT\n",
       "2      FB\n",
       "3    AMZN\n",
       "4      BA\n",
       "dtype: object"
      ]
     },
     "execution_count": 5,
     "metadata": {},
     "output_type": "execute_result"
    }
   ],
   "source": [
    "# Let's create a one dimensional Pandas \"series\" \n",
    "# Let's use Pandas Constructor Method to create a series from a Python list\n",
    "# Note that series is formed of data and associated index (numeric index has been automatically generated) \n",
    "# Check Pandas Documentation for More information: https://pandas.pydata.org/pandas-docs/stable/reference/api/pandas.Series.html#pandas.Series\n",
    "# Object datatype is used for text data (String)\n",
    "\n",
    "series_1 = pd.Series(data = my_list)\n",
    "series_1"
   ]
  },
  {
   "cell_type": "code",
   "execution_count": 6,
   "id": "bcce2d38",
   "metadata": {
    "execution": {
     "iopub.execute_input": "2023-01-01T14:52:00.773746Z",
     "iopub.status.busy": "2023-01-01T14:52:00.772940Z",
     "iopub.status.idle": "2023-01-01T14:52:00.779798Z",
     "shell.execute_reply": "2023-01-01T14:52:00.778025Z"
    },
    "id": "-HNCtPcoNUyf",
    "outputId": "eef1374d-9fe3-4df1-f922-0155a4a72a8c",
    "papermill": {
     "duration": 0.036661,
     "end_time": "2023-01-01T14:52:00.782440",
     "exception": false,
     "start_time": "2023-01-01T14:52:00.745779",
     "status": "completed"
    },
    "tags": []
   },
   "outputs": [
    {
     "data": {
      "text/plain": [
       "pandas.core.series.Series"
      ]
     },
     "execution_count": 6,
     "metadata": {},
     "output_type": "execute_result"
    }
   ],
   "source": [
    "# Let's confirm the Pandas Series Datatype\n",
    "type(series_1)"
   ]
  },
  {
   "cell_type": "code",
   "execution_count": 7,
   "id": "f98ead2d",
   "metadata": {
    "execution": {
     "iopub.execute_input": "2023-01-01T14:52:00.842963Z",
     "iopub.status.busy": "2023-01-01T14:52:00.842435Z",
     "iopub.status.idle": "2023-01-01T14:52:00.860288Z",
     "shell.execute_reply": "2023-01-01T14:52:00.859171Z"
    },
    "id": "LB2J-qw5LdQI",
    "outputId": "89c29a7e-af86-4d61-ffab-672ea92375b5",
    "papermill": {
     "duration": 0.05301,
     "end_time": "2023-01-01T14:52:00.863039",
     "exception": false,
     "start_time": "2023-01-01T14:52:00.810029",
     "status": "completed"
    },
    "tags": []
   },
   "outputs": [
    {
     "data": {
      "text/plain": [
       "0     100\n",
       "1     200\n",
       "2     500\n",
       "3    1000\n",
       "4    2000\n",
       "dtype: int64"
      ]
     },
     "execution_count": 7,
     "metadata": {},
     "output_type": "execute_result"
    }
   ],
   "source": [
    "# Let's define another Pandas Series that contains numeric values (stock prices) instead of text data\n",
    "# Note that we have int64 datatype which means it's integer stored in 64 bits in memory\n",
    "series_2 = pd.Series(data = [100, 200, 500, 1000, 2000])\n",
    "series_2"
   ]
  },
  {
   "cell_type": "markdown",
   "id": "3bde12ad",
   "metadata": {
    "id": "8C0UN46KIntM",
    "papermill": {
     "duration": 0.024012,
     "end_time": "2023-01-01T14:52:00.911774",
     "exception": false,
     "start_time": "2023-01-01T14:52:00.887762",
     "status": "completed"
    },
    "tags": []
   },
   "source": [
    "**MINI CHALLENGE #1:**\n",
    "- **Define a Pandas Series named \"my_series\" that contains your top 3 favourite movies. Confirm the datatype of \"my_series\"**"
   ]
  },
  {
   "cell_type": "code",
   "execution_count": 8,
   "id": "8063406f",
   "metadata": {
    "execution": {
     "iopub.execute_input": "2023-01-01T14:52:00.972061Z",
     "iopub.status.busy": "2023-01-01T14:52:00.970941Z",
     "iopub.status.idle": "2023-01-01T14:52:00.981748Z",
     "shell.execute_reply": "2023-01-01T14:52:00.980856Z"
    },
    "id": "l2aMAKvpJyWH",
    "outputId": "bde8729c-8cf0-427c-bbaf-5e84d9785329",
    "papermill": {
     "duration": 0.04649,
     "end_time": "2023-01-01T14:52:00.984648",
     "exception": false,
     "start_time": "2023-01-01T14:52:00.938158",
     "status": "completed"
    },
    "tags": []
   },
   "outputs": [
    {
     "data": {
      "text/plain": [
       "0         Jab We Met\n",
       "1            Titanic\n",
       "2    Stranger Things\n",
       "dtype: object"
      ]
     },
     "execution_count": 8,
     "metadata": {},
     "output_type": "execute_result"
    }
   ],
   "source": [
    "movies_1 = ['Jab We Met', 'Titanic', 'Stranger Things']\n",
    "movies_series = pd.Series(data = movies_1)\n",
    "movies_series"
   ]
  },
  {
   "cell_type": "code",
   "execution_count": 9,
   "id": "da14af32",
   "metadata": {
    "execution": {
     "iopub.execute_input": "2023-01-01T14:52:01.036253Z",
     "iopub.status.busy": "2023-01-01T14:52:01.035170Z",
     "iopub.status.idle": "2023-01-01T14:52:01.043253Z",
     "shell.execute_reply": "2023-01-01T14:52:01.042106Z"
    },
    "id": "55lAVSnE2FRe",
    "outputId": "0a3c642f-c1e1-4de2-a395-4a5bf494fa68",
    "papermill": {
     "duration": 0.036448,
     "end_time": "2023-01-01T14:52:01.045959",
     "exception": false,
     "start_time": "2023-01-01T14:52:01.009511",
     "status": "completed"
    },
    "tags": []
   },
   "outputs": [
    {
     "data": {
      "text/plain": [
       "pandas.core.series.Series"
      ]
     },
     "execution_count": 9,
     "metadata": {},
     "output_type": "execute_result"
    }
   ],
   "source": [
    "type(movies_series)"
   ]
  },
  {
   "cell_type": "markdown",
   "id": "5e79bbc2",
   "metadata": {
    "id": "XN92TgiQOD7I",
    "papermill": {
     "duration": 0.024194,
     "end_time": "2023-01-01T14:52:01.096732",
     "exception": false,
     "start_time": "2023-01-01T14:52:01.072538",
     "status": "completed"
    },
    "tags": []
   },
   "source": [
    "# 2. DEFINE A PANDAS SERIES WITH CUSTOM INDEX"
   ]
  },
  {
   "cell_type": "code",
   "execution_count": 10,
   "id": "eec7c8f1",
   "metadata": {
    "execution": {
     "iopub.execute_input": "2023-01-01T14:52:01.158911Z",
     "iopub.status.busy": "2023-01-01T14:52:01.158024Z",
     "iopub.status.idle": "2023-01-01T14:52:01.163615Z",
     "shell.execute_reply": "2023-01-01T14:52:01.162804Z"
    },
    "id": "K4Y9jVx1OaN4",
    "papermill": {
     "duration": 0.048972,
     "end_time": "2023-01-01T14:52:01.172344",
     "exception": false,
     "start_time": "2023-01-01T14:52:01.123372",
     "status": "completed"
    },
    "tags": []
   },
   "outputs": [],
   "source": [
    "# Let's define a Python list that contains 5 stocks: Nvidia, Microsoft, FaceBook, Amazon, and Boeing\n",
    "list_1 = ['NVDA', 'MSFT', 'FB', 'AMZN', 'BA']"
   ]
  },
  {
   "cell_type": "code",
   "execution_count": 11,
   "id": "de58c473",
   "metadata": {
    "execution": {
     "iopub.execute_input": "2023-01-01T14:52:01.230221Z",
     "iopub.status.busy": "2023-01-01T14:52:01.229513Z",
     "iopub.status.idle": "2023-01-01T14:52:01.234309Z",
     "shell.execute_reply": "2023-01-01T14:52:01.233540Z"
    },
    "id": "ZSxdgs_xJvxx",
    "papermill": {
     "duration": 0.037369,
     "end_time": "2023-01-01T14:52:01.236399",
     "exception": false,
     "start_time": "2023-01-01T14:52:01.199030",
     "status": "completed"
    },
    "tags": []
   },
   "outputs": [],
   "source": [
    "# Let's define a python list as shown below. This python list will be used for the Series index:\n",
    "lable_1 = ['stock#1', 'stock#2', 'stock#3', 'stock#4', 'stock#5']"
   ]
  },
  {
   "cell_type": "code",
   "execution_count": 12,
   "id": "439b7e20",
   "metadata": {
    "execution": {
     "iopub.execute_input": "2023-01-01T14:52:01.287975Z",
     "iopub.status.busy": "2023-01-01T14:52:01.286855Z",
     "iopub.status.idle": "2023-01-01T14:52:01.294479Z",
     "shell.execute_reply": "2023-01-01T14:52:01.293645Z"
    },
    "id": "U4Fq06XwqX9v",
    "papermill": {
     "duration": 0.03597,
     "end_time": "2023-01-01T14:52:01.296826",
     "exception": false,
     "start_time": "2023-01-01T14:52:01.260856",
     "status": "completed"
    },
    "tags": []
   },
   "outputs": [],
   "source": [
    "# Let's create a one dimensional Pandas \"series\" \n",
    "# Let's use Pandas Constructor Method to create a series from a Python list\n",
    "# Note that this series is formed of data and associated labels \n",
    "series_3 = pd.Series(data = list_1, index = lable_1)"
   ]
  },
  {
   "cell_type": "code",
   "execution_count": 13,
   "id": "af6d2bd7",
   "metadata": {
    "execution": {
     "iopub.execute_input": "2023-01-01T14:52:01.346441Z",
     "iopub.status.busy": "2023-01-01T14:52:01.345654Z",
     "iopub.status.idle": "2023-01-01T14:52:01.355558Z",
     "shell.execute_reply": "2023-01-01T14:52:01.354430Z"
    },
    "id": "YhPzprisqX_8",
    "outputId": "e671f796-4403-4a3c-ab9d-c0a86ff21243",
    "papermill": {
     "duration": 0.037487,
     "end_time": "2023-01-01T14:52:01.358081",
     "exception": false,
     "start_time": "2023-01-01T14:52:01.320594",
     "status": "completed"
    },
    "tags": []
   },
   "outputs": [
    {
     "data": {
      "text/plain": [
       "stock#1    NVDA\n",
       "stock#2    MSFT\n",
       "stock#3      FB\n",
       "stock#4    AMZN\n",
       "stock#5      BA\n",
       "dtype: object"
      ]
     },
     "execution_count": 13,
     "metadata": {},
     "output_type": "execute_result"
    }
   ],
   "source": [
    "# Let's view the series\n",
    "series_3"
   ]
  },
  {
   "cell_type": "code",
   "execution_count": 14,
   "id": "f8696469",
   "metadata": {
    "execution": {
     "iopub.execute_input": "2023-01-01T14:52:01.410341Z",
     "iopub.status.busy": "2023-01-01T14:52:01.409481Z",
     "iopub.status.idle": "2023-01-01T14:52:01.416705Z",
     "shell.execute_reply": "2023-01-01T14:52:01.415521Z"
    },
    "id": "4LPwMO8fsvi1",
    "outputId": "9b93504f-71ca-4506-e504-f9065a379b30",
    "papermill": {
     "duration": 0.036366,
     "end_time": "2023-01-01T14:52:01.419328",
     "exception": false,
     "start_time": "2023-01-01T14:52:01.382962",
     "status": "completed"
    },
    "tags": []
   },
   "outputs": [
    {
     "data": {
      "text/plain": [
       "pandas.core.series.Series"
      ]
     },
     "execution_count": 14,
     "metadata": {},
     "output_type": "execute_result"
    }
   ],
   "source": [
    "# Let's obtain the datatype\n",
    "type(series_3)"
   ]
  },
  {
   "cell_type": "markdown",
   "id": "6a1f4035",
   "metadata": {
    "id": "13icipAKL4W5",
    "papermill": {
     "duration": 0.023557,
     "end_time": "2023-01-01T14:52:01.467411",
     "exception": false,
     "start_time": "2023-01-01T14:52:01.443854",
     "status": "completed"
    },
    "tags": []
   },
   "source": [
    "**MINI CHALLENGE #2:**\n",
    "- **Define a Pandas Series named \"my_series\" that contains your top 3 favourite movies. Instead of using default numeric indexes (similar to mini challenge #1), use the following indexes \"movie #1\", \"Movie #2\", and \"movie #3\"**"
   ]
  },
  {
   "cell_type": "code",
   "execution_count": 15,
   "id": "91463bc0",
   "metadata": {
    "execution": {
     "iopub.execute_input": "2023-01-01T14:52:01.516607Z",
     "iopub.status.busy": "2023-01-01T14:52:01.516241Z",
     "iopub.status.idle": "2023-01-01T14:52:01.520412Z",
     "shell.execute_reply": "2023-01-01T14:52:01.519596Z"
    },
    "id": "McCDCvRc0dWk",
    "papermill": {
     "duration": 0.031868,
     "end_time": "2023-01-01T14:52:01.522995",
     "exception": false,
     "start_time": "2023-01-01T14:52:01.491127",
     "status": "completed"
    },
    "tags": []
   },
   "outputs": [],
   "source": [
    "list_2 = ['Jab We Met', 'Titanic', 'Stranger Things']"
   ]
  },
  {
   "cell_type": "code",
   "execution_count": 16,
   "id": "8c0ba8b6",
   "metadata": {
    "execution": {
     "iopub.execute_input": "2023-01-01T14:52:01.577135Z",
     "iopub.status.busy": "2023-01-01T14:52:01.576625Z",
     "iopub.status.idle": "2023-01-01T14:52:01.582490Z",
     "shell.execute_reply": "2023-01-01T14:52:01.581285Z"
    },
    "id": "p2o2AgDD0oB5",
    "papermill": {
     "duration": 0.034711,
     "end_time": "2023-01-01T14:52:01.584751",
     "exception": false,
     "start_time": "2023-01-01T14:52:01.550040",
     "status": "completed"
    },
    "tags": []
   },
   "outputs": [],
   "source": [
    "lable_2 = ['movie #1', 'movie #2', 'movie #3']"
   ]
  },
  {
   "cell_type": "code",
   "execution_count": 17,
   "id": "541d4d01",
   "metadata": {
    "execution": {
     "iopub.execute_input": "2023-01-01T14:52:01.637803Z",
     "iopub.status.busy": "2023-01-01T14:52:01.637350Z",
     "iopub.status.idle": "2023-01-01T14:52:01.645406Z",
     "shell.execute_reply": "2023-01-01T14:52:01.644649Z"
    },
    "id": "NSzrr_Ie0_EA",
    "outputId": "4fcd554b-61f8-46d7-9dee-0321f75a985e",
    "papermill": {
     "duration": 0.036842,
     "end_time": "2023-01-01T14:52:01.647733",
     "exception": false,
     "start_time": "2023-01-01T14:52:01.610891",
     "status": "completed"
    },
    "tags": []
   },
   "outputs": [
    {
     "data": {
      "text/plain": [
       "movie #1         Jab We Met\n",
       "movie #2            Titanic\n",
       "movie #3    Stranger Things\n",
       "dtype: object"
      ]
     },
     "execution_count": 17,
     "metadata": {},
     "output_type": "execute_result"
    }
   ],
   "source": [
    "series_4 = pd.Series(data = list_2, index = lable_2)\n",
    "series_4"
   ]
  },
  {
   "cell_type": "markdown",
   "id": "f06ac065",
   "metadata": {
    "id": "96EH6h9SQYW1",
    "papermill": {
     "duration": 0.027011,
     "end_time": "2023-01-01T14:52:01.701813",
     "exception": false,
     "start_time": "2023-01-01T14:52:01.674802",
     "status": "completed"
    },
    "tags": []
   },
   "source": [
    "# 3. DEFINE A PANDAS SERIES FROM A DICTIONARY"
   ]
  },
  {
   "cell_type": "code",
   "execution_count": 18,
   "id": "1368f008",
   "metadata": {
    "execution": {
     "iopub.execute_input": "2023-01-01T14:52:01.758451Z",
     "iopub.status.busy": "2023-01-01T14:52:01.757988Z",
     "iopub.status.idle": "2023-01-01T14:52:01.763701Z",
     "shell.execute_reply": "2023-01-01T14:52:01.762576Z"
    },
    "id": "fk9R_fZlML_y",
    "papermill": {
     "duration": 0.036717,
     "end_time": "2023-01-01T14:52:01.765935",
     "exception": false,
     "start_time": "2023-01-01T14:52:01.729218",
     "status": "completed"
    },
    "tags": []
   },
   "outputs": [],
   "source": [
    "# A Dictionary consists of a collection of key-value pairs. Each key-value pair maps the key to its corresponding value.\n",
    "# Keys are unique within a dictionary while values may not be. \n",
    "# List elements are accessed by their position in the list, via indexing while Dictionary elements are accessed via keys\n",
    "# Define a dictionary named \"my_dict\" using key-value pairs\n",
    "\n",
    "dict_1 = {'Bank client id': 201,\n",
    "          'Bank client name': 'Shrishti',\n",
    "          'Net worth (INR)': 45000,\n",
    "          'Years with bank': 6,}"
   ]
  },
  {
   "cell_type": "code",
   "execution_count": 19,
   "id": "ea610791",
   "metadata": {
    "execution": {
     "iopub.execute_input": "2023-01-01T14:52:01.815968Z",
     "iopub.status.busy": "2023-01-01T14:52:01.815202Z",
     "iopub.status.idle": "2023-01-01T14:52:01.821763Z",
     "shell.execute_reply": "2023-01-01T14:52:01.820627Z"
    },
    "id": "BlHhf-YPQdrB",
    "outputId": "afae7ed5-a2bb-4785-e011-2ea60c825660",
    "papermill": {
     "duration": 0.033663,
     "end_time": "2023-01-01T14:52:01.823848",
     "exception": false,
     "start_time": "2023-01-01T14:52:01.790185",
     "status": "completed"
    },
    "tags": []
   },
   "outputs": [
    {
     "data": {
      "text/plain": [
       "{'Bank client id': 201,\n",
       " 'Bank client name': 'Shrishti',\n",
       " 'Net worth (INR)': 45000,\n",
       " 'Years with bank': 6}"
      ]
     },
     "execution_count": 19,
     "metadata": {},
     "output_type": "execute_result"
    }
   ],
   "source": [
    "# Show the dictionary\n",
    "dict_1"
   ]
  },
  {
   "cell_type": "code",
   "execution_count": 20,
   "id": "928c7a91",
   "metadata": {
    "execution": {
     "iopub.execute_input": "2023-01-01T14:52:01.873469Z",
     "iopub.status.busy": "2023-01-01T14:52:01.873034Z",
     "iopub.status.idle": "2023-01-01T14:52:01.880500Z",
     "shell.execute_reply": "2023-01-01T14:52:01.879314Z"
    },
    "id": "0b4KQo3JMcI0",
    "outputId": "12ad4d6c-c527-4493-85ab-630b412c32c1",
    "papermill": {
     "duration": 0.035371,
     "end_time": "2023-01-01T14:52:01.882856",
     "exception": false,
     "start_time": "2023-01-01T14:52:01.847485",
     "status": "completed"
    },
    "tags": []
   },
   "outputs": [
    {
     "data": {
      "text/plain": [
       "dict"
      ]
     },
     "execution_count": 20,
     "metadata": {},
     "output_type": "execute_result"
    }
   ],
   "source": [
    "# Confirm the dictionary datatype \n",
    "type(dict_1)"
   ]
  },
  {
   "cell_type": "code",
   "execution_count": 21,
   "id": "aebe6272",
   "metadata": {
    "execution": {
     "iopub.execute_input": "2023-01-01T14:52:01.932847Z",
     "iopub.status.busy": "2023-01-01T14:52:01.932383Z",
     "iopub.status.idle": "2023-01-01T14:52:01.941287Z",
     "shell.execute_reply": "2023-01-01T14:52:01.940233Z"
    },
    "id": "LeH27Q4aQeXe",
    "outputId": "8a724398-05b2-4020-8113-6350bfb0c50c",
    "papermill": {
     "duration": 0.036668,
     "end_time": "2023-01-01T14:52:01.943766",
     "exception": false,
     "start_time": "2023-01-01T14:52:01.907098",
     "status": "completed"
    },
    "tags": []
   },
   "outputs": [
    {
     "data": {
      "text/plain": [
       "Bank client id           201\n",
       "Bank client name    Shrishti\n",
       "Net worth (INR)        45000\n",
       "Years with bank            6\n",
       "dtype: object"
      ]
     },
     "execution_count": 21,
     "metadata": {},
     "output_type": "execute_result"
    }
   ],
   "source": [
    "# Let's define a Pandas Series Using the dictionary\n",
    "series_5 = pd.Series(dict_1)\n",
    "series_5"
   ]
  },
  {
   "cell_type": "markdown",
   "id": "7e312d1c",
   "metadata": {
    "id": "_Tk4kxlLNI85",
    "papermill": {
     "duration": 0.027056,
     "end_time": "2023-01-01T14:52:01.997256",
     "exception": false,
     "start_time": "2023-01-01T14:52:01.970200",
     "status": "completed"
    },
    "tags": []
   },
   "source": [
    "**MINI CHALLENGE #3:**\n",
    "- **Create a Pandas Series from a dictionary with 3 of your favourite stocks and their corresponding prices** "
   ]
  },
  {
   "cell_type": "code",
   "execution_count": 22,
   "id": "44ad8021",
   "metadata": {
    "execution": {
     "iopub.execute_input": "2023-01-01T14:52:02.050956Z",
     "iopub.status.busy": "2023-01-01T14:52:02.050537Z",
     "iopub.status.idle": "2023-01-01T14:52:02.056940Z",
     "shell.execute_reply": "2023-01-01T14:52:02.055621Z"
    },
    "id": "nlG7J4oKNLuY",
    "outputId": "1d4e54d5-7af3-48ee-8df8-174abc13d00a",
    "papermill": {
     "duration": 0.036095,
     "end_time": "2023-01-01T14:52:02.059372",
     "exception": false,
     "start_time": "2023-01-01T14:52:02.023277",
     "status": "completed"
    },
    "tags": []
   },
   "outputs": [
    {
     "name": "stdout",
     "output_type": "stream",
     "text": [
      "{'Netflix': 990, 'AMZN': 1500, 'MSFT': 1200}\n"
     ]
    }
   ],
   "source": [
    "my_dict = {'Netflix': 990,\n",
    "           'AMZN': 1500,\n",
    "           'MSFT': 1200}\n",
    "\n",
    "print(my_dict)"
   ]
  },
  {
   "cell_type": "code",
   "execution_count": 23,
   "id": "87d23272",
   "metadata": {
    "execution": {
     "iopub.execute_input": "2023-01-01T14:52:02.115267Z",
     "iopub.status.busy": "2023-01-01T14:52:02.114836Z",
     "iopub.status.idle": "2023-01-01T14:52:02.122593Z",
     "shell.execute_reply": "2023-01-01T14:52:02.121829Z"
    },
    "id": "VGmJmTNjQR8Z",
    "outputId": "3acbe760-3c1c-468d-af31-4408e6217eb7",
    "papermill": {
     "duration": 0.037269,
     "end_time": "2023-01-01T14:52:02.125275",
     "exception": false,
     "start_time": "2023-01-01T14:52:02.088006",
     "status": "completed"
    },
    "tags": []
   },
   "outputs": [
    {
     "data": {
      "text/plain": [
       "Netflix     990\n",
       "AMZN       1500\n",
       "MSFT       1200\n",
       "dtype: int64"
      ]
     },
     "execution_count": 23,
     "metadata": {},
     "output_type": "execute_result"
    }
   ],
   "source": [
    "series_6 = pd.Series(my_dict)\n",
    "series_6"
   ]
  },
  {
   "cell_type": "markdown",
   "id": "a542f5f6",
   "metadata": {
    "id": "VGlb7t7WRIR3",
    "papermill": {
     "duration": 0.024931,
     "end_time": "2023-01-01T14:52:02.175490",
     "exception": false,
     "start_time": "2023-01-01T14:52:02.150559",
     "status": "completed"
    },
    "tags": []
   },
   "source": [
    "# 4. PANDAS ATTRIBUTES"
   ]
  },
  {
   "cell_type": "code",
   "execution_count": 24,
   "id": "afb65180",
   "metadata": {
    "execution": {
     "iopub.execute_input": "2023-01-01T14:52:02.226776Z",
     "iopub.status.busy": "2023-01-01T14:52:02.226328Z",
     "iopub.status.idle": "2023-01-01T14:52:02.235656Z",
     "shell.execute_reply": "2023-01-01T14:52:02.234506Z"
    },
    "id": "p4FauWQlRRD8",
    "outputId": "f36a50e3-27f7-4b3f-a887-25aab4141931",
    "papermill": {
     "duration": 0.038024,
     "end_time": "2023-01-01T14:52:02.238134",
     "exception": false,
     "start_time": "2023-01-01T14:52:02.200110",
     "status": "completed"
    },
    "tags": []
   },
   "outputs": [
    {
     "data": {
      "text/plain": [
       "0    NVDA\n",
       "1    MSFT\n",
       "2      FB\n",
       "3    AMZN\n",
       "4      BA\n",
       "dtype: object"
      ]
     },
     "execution_count": 24,
     "metadata": {},
     "output_type": "execute_result"
    }
   ],
   "source": [
    "# Attributes/Properties: do not use parantheses \"()\" and are used to get Pandas Series Properties. Ex: my_series.values, my_series.shape\n",
    "# Methods: use parantheses \"()\" and might include arguments and they actually alter/change the Pandas Series. Ex: my_series.tail(), my_series.head(), my_series.drop_duplicates()\n",
    "# Indexers: use square brackets \"[]\" and are used to access specific elements in a Pandas Series or DataFrame. Ex: my_series.loc[], my_series.iloc[]\n",
    "\n",
    "# Let's redefine a Pandas Series containing our favourite 5 stocks \n",
    "# Nvidia, Microsoft, FaceBook, Amazon, and Boeing\n",
    "\n",
    "list_3 = ['NVDA', 'MSFT', 'FB', 'AMZN', 'BA']\n",
    "series_7 = pd.Series(data = list_3)\n",
    "series_7"
   ]
  },
  {
   "cell_type": "code",
   "execution_count": 25,
   "id": "e01954cc",
   "metadata": {
    "execution": {
     "iopub.execute_input": "2023-01-01T14:52:02.290640Z",
     "iopub.status.busy": "2023-01-01T14:52:02.290053Z",
     "iopub.status.idle": "2023-01-01T14:52:02.297532Z",
     "shell.execute_reply": "2023-01-01T14:52:02.296341Z"
    },
    "id": "KBgZI_vHQeeA",
    "outputId": "5ed32702-33fc-480e-9061-acfb71a6ab15",
    "papermill": {
     "duration": 0.03654,
     "end_time": "2023-01-01T14:52:02.300049",
     "exception": false,
     "start_time": "2023-01-01T14:52:02.263509",
     "status": "completed"
    },
    "tags": []
   },
   "outputs": [
    {
     "data": {
      "text/plain": [
       "array(['NVDA', 'MSFT', 'FB', 'AMZN', 'BA'], dtype=object)"
      ]
     },
     "execution_count": 25,
     "metadata": {},
     "output_type": "execute_result"
    }
   ],
   "source": [
    "# \".Values\" attribute is used to return Series as ndarray depending on its dtype\n",
    "# Check this for more information: https://pandas.pydata.org/docs/reference/api/pandas.Series.values.html#pandas.Series.values\n",
    "series_7.values"
   ]
  },
  {
   "cell_type": "code",
   "execution_count": 26,
   "id": "8b4ec7e1",
   "metadata": {
    "execution": {
     "iopub.execute_input": "2023-01-01T14:52:02.353644Z",
     "iopub.status.busy": "2023-01-01T14:52:02.353139Z",
     "iopub.status.idle": "2023-01-01T14:52:02.359964Z",
     "shell.execute_reply": "2023-01-01T14:52:02.358860Z"
    },
    "id": "YDunyBEQRtoJ",
    "outputId": "50e203af-5b56-4779-831a-b2853c4c0713",
    "papermill": {
     "duration": 0.0367,
     "end_time": "2023-01-01T14:52:02.362527",
     "exception": false,
     "start_time": "2023-01-01T14:52:02.325827",
     "status": "completed"
    },
    "tags": []
   },
   "outputs": [
    {
     "data": {
      "text/plain": [
       "RangeIndex(start=0, stop=5, step=1)"
      ]
     },
     "execution_count": 26,
     "metadata": {},
     "output_type": "execute_result"
    }
   ],
   "source": [
    "# index is used to return the index (axis labels) of the Series\n",
    "series_7.index"
   ]
  },
  {
   "cell_type": "code",
   "execution_count": 27,
   "id": "1c9ed2a5",
   "metadata": {
    "execution": {
     "iopub.execute_input": "2023-01-01T14:52:02.417013Z",
     "iopub.status.busy": "2023-01-01T14:52:02.415960Z",
     "iopub.status.idle": "2023-01-01T14:52:02.423037Z",
     "shell.execute_reply": "2023-01-01T14:52:02.421958Z"
    },
    "id": "7bgfGfQaSrqw",
    "outputId": "f492c61f-f5e0-47c8-ca79-08e97d7e70fd",
    "papermill": {
     "duration": 0.036301,
     "end_time": "2023-01-01T14:52:02.425364",
     "exception": false,
     "start_time": "2023-01-01T14:52:02.389063",
     "status": "completed"
    },
    "tags": []
   },
   "outputs": [
    {
     "data": {
      "text/plain": [
       "dtype('O')"
      ]
     },
     "execution_count": 27,
     "metadata": {},
     "output_type": "execute_result"
    }
   ],
   "source": [
    "# dtype is used to return the datatype of the Series ('O' stands for 'object' datatype)\n",
    "series_7.dtype"
   ]
  },
  {
   "cell_type": "code",
   "execution_count": 28,
   "id": "3798f2cb",
   "metadata": {
    "execution": {
     "iopub.execute_input": "2023-01-01T14:52:02.478187Z",
     "iopub.status.busy": "2023-01-01T14:52:02.477771Z",
     "iopub.status.idle": "2023-01-01T14:52:02.488004Z",
     "shell.execute_reply": "2023-01-01T14:52:02.486740Z"
    },
    "id": "XeQtP9v2dxzu",
    "outputId": "ae3d57c0-0a84-4317-d974-ea0ec2cd8399",
    "papermill": {
     "duration": 0.039461,
     "end_time": "2023-01-01T14:52:02.490613",
     "exception": false,
     "start_time": "2023-01-01T14:52:02.451152",
     "status": "completed"
    },
    "tags": []
   },
   "outputs": [
    {
     "data": {
      "text/plain": [
       "True"
      ]
     },
     "execution_count": 28,
     "metadata": {},
     "output_type": "execute_result"
    }
   ],
   "source": [
    "# Check if all elements are unique or not\n",
    "series_7.is_unique"
   ]
  },
  {
   "cell_type": "code",
   "execution_count": 29,
   "id": "4cb358d2",
   "metadata": {
    "execution": {
     "iopub.execute_input": "2023-01-01T14:52:02.545038Z",
     "iopub.status.busy": "2023-01-01T14:52:02.544630Z",
     "iopub.status.idle": "2023-01-01T14:52:02.551895Z",
     "shell.execute_reply": "2023-01-01T14:52:02.550769Z"
    },
    "id": "8VWnKVh0d7Kw",
    "outputId": "cecd3b19-246d-4ae4-88c2-535d63bec5b5",
    "papermill": {
     "duration": 0.037031,
     "end_time": "2023-01-01T14:52:02.554122",
     "exception": false,
     "start_time": "2023-01-01T14:52:02.517091",
     "status": "completed"
    },
    "tags": []
   },
   "outputs": [
    {
     "data": {
      "text/plain": [
       "(5,)"
      ]
     },
     "execution_count": 29,
     "metadata": {},
     "output_type": "execute_result"
    }
   ],
   "source": [
    "# Check the shape of the Series\n",
    "# note that a Series is one dimensional\n",
    "series_7.shape"
   ]
  },
  {
   "cell_type": "markdown",
   "id": "7102a419",
   "metadata": {
    "id": "gPL7KbA3XGr1",
    "papermill": {
     "duration": 0.024822,
     "end_time": "2023-01-01T14:52:02.605571",
     "exception": false,
     "start_time": "2023-01-01T14:52:02.580749",
     "status": "completed"
    },
    "tags": []
   },
   "source": [
    "**MINI CHALLENGE #4:** \n",
    "- **What is the size of the Pandas Series? (External Research for the proper attribute is Required)**"
   ]
  },
  {
   "cell_type": "code",
   "execution_count": 30,
   "id": "d776288a",
   "metadata": {
    "execution": {
     "iopub.execute_input": "2023-01-01T14:52:02.658386Z",
     "iopub.status.busy": "2023-01-01T14:52:02.657974Z",
     "iopub.status.idle": "2023-01-01T14:52:02.665567Z",
     "shell.execute_reply": "2023-01-01T14:52:02.664467Z"
    },
    "id": "SyfddtryXbmX",
    "outputId": "4d0d84c3-0095-4f81-d6d2-37cf39b8cefe",
    "papermill": {
     "duration": 0.036543,
     "end_time": "2023-01-01T14:52:02.667778",
     "exception": false,
     "start_time": "2023-01-01T14:52:02.631235",
     "status": "completed"
    },
    "tags": []
   },
   "outputs": [
    {
     "data": {
      "text/plain": [
       "5"
      ]
     },
     "execution_count": 30,
     "metadata": {},
     "output_type": "execute_result"
    }
   ],
   "source": [
    "series_7.size"
   ]
  },
  {
   "cell_type": "markdown",
   "id": "33a7840c",
   "metadata": {
    "id": "Qc7sVau-UtYt",
    "papermill": {
     "duration": 0.025702,
     "end_time": "2023-01-01T14:52:02.719979",
     "exception": false,
     "start_time": "2023-01-01T14:52:02.694277",
     "status": "completed"
    },
    "tags": []
   },
   "source": [
    "# 5. PANDAS METHODS"
   ]
  },
  {
   "cell_type": "code",
   "execution_count": 31,
   "id": "41622057",
   "metadata": {
    "execution": {
     "iopub.execute_input": "2023-01-01T14:52:02.772506Z",
     "iopub.status.busy": "2023-01-01T14:52:02.772029Z",
     "iopub.status.idle": "2023-01-01T14:52:02.781160Z",
     "shell.execute_reply": "2023-01-01T14:52:02.780078Z"
    },
    "id": "5gwWM4VvUxI2",
    "outputId": "15b851cc-49ce-455d-c60c-b373a20bf982",
    "papermill": {
     "duration": 0.03947,
     "end_time": "2023-01-01T14:52:02.784919",
     "exception": false,
     "start_time": "2023-01-01T14:52:02.745449",
     "status": "completed"
    },
    "tags": []
   },
   "outputs": [
    {
     "data": {
      "text/plain": [
       "0     100\n",
       "1     200\n",
       "2     500\n",
       "3    1000\n",
       "4    5000\n",
       "dtype: int64"
      ]
     },
     "execution_count": 31,
     "metadata": {},
     "output_type": "execute_result"
    }
   ],
   "source": [
    "# Methods have parentheses and they actually alter/change the Pandas Series\n",
    "# Methods: use parantheses \"()\" and might include arguments. Ex: my_series.tail(), my_series.head(), my_series.drop_duplicates()\n",
    "\n",
    "# Let's define another Pandas Series that contains numeric values (stock prices) instead of text data\n",
    "# Note that we have int64 datatype which means it contains integer values stored in 64 bits in memory\n",
    "\n",
    "series_8 = pd.Series(data = [100, 200, 500, 1000, 5000])\n",
    "series_8 "
   ]
  },
  {
   "cell_type": "code",
   "execution_count": 32,
   "id": "404d9348",
   "metadata": {
    "execution": {
     "iopub.execute_input": "2023-01-01T14:52:02.855148Z",
     "iopub.status.busy": "2023-01-01T14:52:02.854376Z",
     "iopub.status.idle": "2023-01-01T14:52:02.865216Z",
     "shell.execute_reply": "2023-01-01T14:52:02.863455Z"
    },
    "id": "ImwFgVASUxLa",
    "outputId": "fa16c9d4-c427-4cd2-8ca0-c9bf7c7bf450",
    "papermill": {
     "duration": 0.050584,
     "end_time": "2023-01-01T14:52:02.868307",
     "exception": false,
     "start_time": "2023-01-01T14:52:02.817723",
     "status": "completed"
    },
    "tags": []
   },
   "outputs": [
    {
     "data": {
      "text/plain": [
       "6800"
      ]
     },
     "execution_count": 32,
     "metadata": {},
     "output_type": "execute_result"
    }
   ],
   "source": [
    "# Let's obtain the sum of all elements in the Pandas Series\n",
    "series_8.sum()"
   ]
  },
  {
   "cell_type": "code",
   "execution_count": 33,
   "id": "6e6ac695",
   "metadata": {
    "execution": {
     "iopub.execute_input": "2023-01-01T14:52:02.928134Z",
     "iopub.status.busy": "2023-01-01T14:52:02.927678Z",
     "iopub.status.idle": "2023-01-01T14:52:02.934835Z",
     "shell.execute_reply": "2023-01-01T14:52:02.933941Z"
    },
    "id": "OLa69YwxUxOa",
    "outputId": "43aed449-f59b-4a21-d708-1100597eb051",
    "papermill": {
     "duration": 0.037013,
     "end_time": "2023-01-01T14:52:02.937003",
     "exception": false,
     "start_time": "2023-01-01T14:52:02.899990",
     "status": "completed"
    },
    "tags": []
   },
   "outputs": [
    {
     "data": {
      "text/plain": [
       "50000000000000"
      ]
     },
     "execution_count": 33,
     "metadata": {},
     "output_type": "execute_result"
    }
   ],
   "source": [
    "# Let's obtain the multiplication of all elements in the Pandas Series\n",
    "series_8.product()"
   ]
  },
  {
   "cell_type": "code",
   "execution_count": 34,
   "id": "ed2b9bcf",
   "metadata": {
    "execution": {
     "iopub.execute_input": "2023-01-01T14:52:02.994459Z",
     "iopub.status.busy": "2023-01-01T14:52:02.994072Z",
     "iopub.status.idle": "2023-01-01T14:52:03.000402Z",
     "shell.execute_reply": "2023-01-01T14:52:02.999514Z"
    },
    "id": "xVMJtbtkUxQ-",
    "outputId": "4975ea82-88a9-42e1-dda9-dd0788f21fd4",
    "papermill": {
     "duration": 0.038205,
     "end_time": "2023-01-01T14:52:03.002785",
     "exception": false,
     "start_time": "2023-01-01T14:52:02.964580",
     "status": "completed"
    },
    "tags": []
   },
   "outputs": [
    {
     "data": {
      "text/plain": [
       "1360.0"
      ]
     },
     "execution_count": 34,
     "metadata": {},
     "output_type": "execute_result"
    }
   ],
   "source": [
    "# Let's obtain the average\n",
    "series_8.mean()"
   ]
  },
  {
   "cell_type": "code",
   "execution_count": 35,
   "id": "1a907e8c",
   "metadata": {
    "execution": {
     "iopub.execute_input": "2023-01-01T14:52:03.057554Z",
     "iopub.status.busy": "2023-01-01T14:52:03.056412Z",
     "iopub.status.idle": "2023-01-01T14:52:03.064203Z",
     "shell.execute_reply": "2023-01-01T14:52:03.063336Z"
    },
    "id": "FgqSFr98YTUw",
    "outputId": "ee9391ea-1cbc-4fca-9b64-2d8a6adc70cf",
    "papermill": {
     "duration": 0.037133,
     "end_time": "2023-01-01T14:52:03.066614",
     "exception": false,
     "start_time": "2023-01-01T14:52:03.029481",
     "status": "completed"
    },
    "tags": []
   },
   "outputs": [
    {
     "data": {
      "text/plain": [
       "0    100\n",
       "1    200\n",
       "dtype: int64"
      ]
     },
     "execution_count": 35,
     "metadata": {},
     "output_type": "execute_result"
    }
   ],
   "source": [
    "# Let's show the first couple of elements in the Pandas Series\n",
    "series_8.head(2)"
   ]
  },
  {
   "cell_type": "code",
   "execution_count": 36,
   "id": "6feeb5a0",
   "metadata": {
    "execution": {
     "iopub.execute_input": "2023-01-01T14:52:03.124778Z",
     "iopub.status.busy": "2023-01-01T14:52:03.123617Z",
     "iopub.status.idle": "2023-01-01T14:52:03.132040Z",
     "shell.execute_reply": "2023-01-01T14:52:03.130987Z"
    },
    "id": "GFoxw41LZrBs",
    "outputId": "ae5dc3ec-0924-4d28-dfa4-b7c7e84d3faf",
    "papermill": {
     "duration": 0.039513,
     "end_time": "2023-01-01T14:52:03.134422",
     "exception": false,
     "start_time": "2023-01-01T14:52:03.094909",
     "status": "completed"
    },
    "tags": []
   },
   "outputs": [
    {
     "data": {
      "text/plain": [
       "0    100\n",
       "1    200\n",
       "2    500\n",
       "dtype: int64"
      ]
     },
     "execution_count": 36,
     "metadata": {},
     "output_type": "execute_result"
    }
   ],
   "source": [
    "# Note that head creates a new dataframe \n",
    "new_series = series_8.head(3)\n",
    "new_series"
   ]
  },
  {
   "cell_type": "markdown",
   "id": "02c8b13d",
   "metadata": {
    "id": "DHknLT4PTrjn",
    "papermill": {
     "duration": 0.027333,
     "end_time": "2023-01-01T14:52:03.188974",
     "exception": false,
     "start_time": "2023-01-01T14:52:03.161641",
     "status": "completed"
    },
    "tags": []
   },
   "source": [
    "**MINI CHALLENGE #5:** \n",
    "- **Show the last 2 rows in the Pandas Series (External Research is Required)** \n",
    "- **How many bytes does this Pandas Series consume in memory? (External Research is Required)**"
   ]
  },
  {
   "cell_type": "code",
   "execution_count": 37,
   "id": "28e620d1",
   "metadata": {
    "execution": {
     "iopub.execute_input": "2023-01-01T14:52:03.245080Z",
     "iopub.status.busy": "2023-01-01T14:52:03.244664Z",
     "iopub.status.idle": "2023-01-01T14:52:03.252811Z",
     "shell.execute_reply": "2023-01-01T14:52:03.251767Z"
    },
    "id": "UUiOynSPSshX",
    "outputId": "ffe14cd8-4078-4231-ee97-84018075a82f",
    "papermill": {
     "duration": 0.038168,
     "end_time": "2023-01-01T14:52:03.254909",
     "exception": false,
     "start_time": "2023-01-01T14:52:03.216741",
     "status": "completed"
    },
    "tags": []
   },
   "outputs": [
    {
     "data": {
      "text/plain": [
       "3    1000\n",
       "4    5000\n",
       "dtype: int64"
      ]
     },
     "execution_count": 37,
     "metadata": {},
     "output_type": "execute_result"
    }
   ],
   "source": [
    "series_8.tail(2)"
   ]
  },
  {
   "cell_type": "markdown",
   "id": "4ad24485",
   "metadata": {
    "id": "vzu3jPDbasz5",
    "papermill": {
     "duration": 0.025902,
     "end_time": "2023-01-01T14:52:03.306666",
     "exception": false,
     "start_time": "2023-01-01T14:52:03.280764",
     "status": "completed"
    },
    "tags": []
   },
   "source": [
    "# 6. IMPORT CSV DATA (1-D) USING PANDAS"
   ]
  },
  {
   "cell_type": "code",
   "execution_count": 38,
   "id": "e370cd9c",
   "metadata": {
    "execution": {
     "iopub.execute_input": "2023-01-01T14:52:03.361887Z",
     "iopub.status.busy": "2023-01-01T14:52:03.361433Z",
     "iopub.status.idle": "2023-01-01T14:52:03.383938Z",
     "shell.execute_reply": "2023-01-01T14:52:03.382973Z"
    },
    "id": "zLiVpmH2asz6",
    "outputId": "b2945b23-db2c-4e6b-8ab3-b558bd5d1b7c",
    "papermill": {
     "duration": 0.052822,
     "end_time": "2023-01-01T14:52:03.386296",
     "exception": false,
     "start_time": "2023-01-01T14:52:03.333474",
     "status": "completed"
    },
    "tags": []
   },
   "outputs": [
    {
     "data": {
      "text/plain": [
       "0       1295.500000\n",
       "1       1289.089966\n",
       "2       1293.670044\n",
       "3       1308.040039\n",
       "4       1314.500000\n",
       "           ...     \n",
       "2154    3327.770020\n",
       "2155    3349.159912\n",
       "2156    3351.280029\n",
       "2157    3360.469971\n",
       "2158    3333.689941\n",
       "Name: sp500, Length: 2159, dtype: float64"
      ]
     },
     "execution_count": 38,
     "metadata": {},
     "output_type": "execute_result"
    }
   ],
   "source": [
    "# Pandas read_csv is used to read a csv file and store data in a DataFrame by default (DataFrames will be covered shortly!)\n",
    "# Use Squeeze to convert it into a Pandas Series (One-dimensional)\n",
    "# Notice that no foramtting exists when a Series is plotted\n",
    "\n",
    "sp500 = pd.read_csv('/kaggle/input/sp500prices/S_P500_Prices.csv', squeeze=True)\n",
    "sp500"
   ]
  },
  {
   "cell_type": "markdown",
   "id": "54137314",
   "metadata": {
    "id": "CykEEAr9S--X",
    "papermill": {
     "duration": 0.025528,
     "end_time": "2023-01-01T14:52:03.439406",
     "exception": false,
     "start_time": "2023-01-01T14:52:03.413878",
     "status": "completed"
    },
    "tags": []
   },
   "source": [
    "**MINI CHALLENGE #6:**\n",
    "- **Set Squeeze = False and rerun the cell, what do you notice? Use Type to compare both outputs**"
   ]
  },
  {
   "cell_type": "code",
   "execution_count": 39,
   "id": "ffb2c89d",
   "metadata": {
    "execution": {
     "iopub.execute_input": "2023-01-01T14:52:03.493716Z",
     "iopub.status.busy": "2023-01-01T14:52:03.493263Z",
     "iopub.status.idle": "2023-01-01T14:52:03.513161Z",
     "shell.execute_reply": "2023-01-01T14:52:03.511880Z"
    },
    "id": "DVEio_JnTArn",
    "outputId": "e5626c62-3721-44e6-dc99-b7948c2756ab",
    "papermill": {
     "duration": 0.050434,
     "end_time": "2023-01-01T14:52:03.515827",
     "exception": false,
     "start_time": "2023-01-01T14:52:03.465393",
     "status": "completed"
    },
    "tags": []
   },
   "outputs": [
    {
     "data": {
      "text/html": [
       "<div>\n",
       "<style scoped>\n",
       "    .dataframe tbody tr th:only-of-type {\n",
       "        vertical-align: middle;\n",
       "    }\n",
       "\n",
       "    .dataframe tbody tr th {\n",
       "        vertical-align: top;\n",
       "    }\n",
       "\n",
       "    .dataframe thead th {\n",
       "        text-align: right;\n",
       "    }\n",
       "</style>\n",
       "<table border=\"1\" class=\"dataframe\">\n",
       "  <thead>\n",
       "    <tr style=\"text-align: right;\">\n",
       "      <th></th>\n",
       "      <th>sp500</th>\n",
       "    </tr>\n",
       "  </thead>\n",
       "  <tbody>\n",
       "    <tr>\n",
       "      <th>0</th>\n",
       "      <td>1295.500000</td>\n",
       "    </tr>\n",
       "    <tr>\n",
       "      <th>1</th>\n",
       "      <td>1289.089966</td>\n",
       "    </tr>\n",
       "    <tr>\n",
       "      <th>2</th>\n",
       "      <td>1293.670044</td>\n",
       "    </tr>\n",
       "    <tr>\n",
       "      <th>3</th>\n",
       "      <td>1308.040039</td>\n",
       "    </tr>\n",
       "    <tr>\n",
       "      <th>4</th>\n",
       "      <td>1314.500000</td>\n",
       "    </tr>\n",
       "    <tr>\n",
       "      <th>...</th>\n",
       "      <td>...</td>\n",
       "    </tr>\n",
       "    <tr>\n",
       "      <th>2154</th>\n",
       "      <td>3327.770020</td>\n",
       "    </tr>\n",
       "    <tr>\n",
       "      <th>2155</th>\n",
       "      <td>3349.159912</td>\n",
       "    </tr>\n",
       "    <tr>\n",
       "      <th>2156</th>\n",
       "      <td>3351.280029</td>\n",
       "    </tr>\n",
       "    <tr>\n",
       "      <th>2157</th>\n",
       "      <td>3360.469971</td>\n",
       "    </tr>\n",
       "    <tr>\n",
       "      <th>2158</th>\n",
       "      <td>3333.689941</td>\n",
       "    </tr>\n",
       "  </tbody>\n",
       "</table>\n",
       "<p>2159 rows × 1 columns</p>\n",
       "</div>"
      ],
      "text/plain": [
       "            sp500\n",
       "0     1295.500000\n",
       "1     1289.089966\n",
       "2     1293.670044\n",
       "3     1308.040039\n",
       "4     1314.500000\n",
       "...           ...\n",
       "2154  3327.770020\n",
       "2155  3349.159912\n",
       "2156  3351.280029\n",
       "2157  3360.469971\n",
       "2158  3333.689941\n",
       "\n",
       "[2159 rows x 1 columns]"
      ]
     },
     "execution_count": 39,
     "metadata": {},
     "output_type": "execute_result"
    }
   ],
   "source": [
    "sp500_2 = pd.read_csv('/kaggle/input/sp500prices/S_P500_Prices.csv', squeeze=False)\n",
    "sp500_2"
   ]
  },
  {
   "cell_type": "code",
   "execution_count": 40,
   "id": "1b771cee",
   "metadata": {
    "execution": {
     "iopub.execute_input": "2023-01-01T14:52:03.574501Z",
     "iopub.status.busy": "2023-01-01T14:52:03.573665Z",
     "iopub.status.idle": "2023-01-01T14:52:03.580206Z",
     "shell.execute_reply": "2023-01-01T14:52:03.579447Z"
    },
    "id": "mu5JXrcQv1aR",
    "outputId": "54e8a231-fc02-4080-d591-2e9579846d7e",
    "papermill": {
     "duration": 0.038113,
     "end_time": "2023-01-01T14:52:03.582302",
     "exception": false,
     "start_time": "2023-01-01T14:52:03.544189",
     "status": "completed"
    },
    "tags": []
   },
   "outputs": [
    {
     "data": {
      "text/plain": [
       "pandas.core.series.Series"
      ]
     },
     "execution_count": 40,
     "metadata": {},
     "output_type": "execute_result"
    }
   ],
   "source": [
    "type(sp500)"
   ]
  },
  {
   "cell_type": "code",
   "execution_count": 41,
   "id": "04e644f2",
   "metadata": {
    "execution": {
     "iopub.execute_input": "2023-01-01T14:52:03.638356Z",
     "iopub.status.busy": "2023-01-01T14:52:03.637581Z",
     "iopub.status.idle": "2023-01-01T14:52:03.644552Z",
     "shell.execute_reply": "2023-01-01T14:52:03.643455Z"
    },
    "id": "ZgiLL5mZwBIA",
    "outputId": "6e242e32-1107-45ed-a47c-3aeee7ee3044",
    "papermill": {
     "duration": 0.037352,
     "end_time": "2023-01-01T14:52:03.646802",
     "exception": false,
     "start_time": "2023-01-01T14:52:03.609450",
     "status": "completed"
    },
    "tags": []
   },
   "outputs": [
    {
     "data": {
      "text/plain": [
       "pandas.core.frame.DataFrame"
      ]
     },
     "execution_count": 41,
     "metadata": {},
     "output_type": "execute_result"
    }
   ],
   "source": [
    "type(sp500_2)"
   ]
  },
  {
   "cell_type": "markdown",
   "id": "43b392ed",
   "metadata": {
    "id": "8HBGOWjKaK_i",
    "papermill": {
     "duration": 0.027534,
     "end_time": "2023-01-01T14:52:03.701441",
     "exception": false,
     "start_time": "2023-01-01T14:52:03.673907",
     "status": "completed"
    },
    "tags": []
   },
   "source": [
    "# 7. PANDAS BUILT-IN FUNCTIONS"
   ]
  },
  {
   "cell_type": "code",
   "execution_count": 42,
   "id": "1e82b872",
   "metadata": {
    "execution": {
     "iopub.execute_input": "2023-01-01T14:52:03.762908Z",
     "iopub.status.busy": "2023-01-01T14:52:03.762444Z",
     "iopub.status.idle": "2023-01-01T14:52:03.775271Z",
     "shell.execute_reply": "2023-01-01T14:52:03.774075Z"
    },
    "id": "-Q-1iWEqaP6y",
    "outputId": "f99fbdad-2a3a-42a9-9f1a-e31f6a8f9780",
    "papermill": {
     "duration": 0.0473,
     "end_time": "2023-01-01T14:52:03.777772",
     "exception": false,
     "start_time": "2023-01-01T14:52:03.730472",
     "status": "completed"
    },
    "tags": []
   },
   "outputs": [
    {
     "data": {
      "text/plain": [
       "0       1295.500000\n",
       "1       1289.089966\n",
       "2       1293.670044\n",
       "3       1308.040039\n",
       "4       1314.500000\n",
       "           ...     \n",
       "2154    3327.770020\n",
       "2155    3349.159912\n",
       "2156    3351.280029\n",
       "2157    3360.469971\n",
       "2158    3333.689941\n",
       "Name: sp500, Length: 2159, dtype: float64"
      ]
     },
     "execution_count": 42,
     "metadata": {},
     "output_type": "execute_result"
    }
   ],
   "source": [
    "# Pandas works great with pre-existing python functions \n",
    "# You don't have to play with pandas methods and directly leverage Python functions\n",
    "# Check Python built-in functions here: https://docs.python.org/3/library/functions.html\n",
    "\n",
    "sp500 = pd.read_csv('/kaggle/input/sp500prices/S_P500_Prices.csv', squeeze=True)\n",
    "sp500"
   ]
  },
  {
   "cell_type": "code",
   "execution_count": 43,
   "id": "6629b738",
   "metadata": {
    "execution": {
     "iopub.execute_input": "2023-01-01T14:52:03.835422Z",
     "iopub.status.busy": "2023-01-01T14:52:03.834846Z",
     "iopub.status.idle": "2023-01-01T14:52:03.842130Z",
     "shell.execute_reply": "2023-01-01T14:52:03.840969Z"
    },
    "id": "g759k2IPdVH-",
    "outputId": "ad9ff2b2-c289-428c-a3c9-4861a7b0a565",
    "papermill": {
     "duration": 0.039073,
     "end_time": "2023-01-01T14:52:03.844800",
     "exception": false,
     "start_time": "2023-01-01T14:52:03.805727",
     "status": "completed"
    },
    "tags": []
   },
   "outputs": [
    {
     "data": {
      "text/plain": [
       "pandas.core.series.Series"
      ]
     },
     "execution_count": 43,
     "metadata": {},
     "output_type": "execute_result"
    }
   ],
   "source": [
    "# Obtain the Data Type of the Pandas Series\n",
    "type(sp500)"
   ]
  },
  {
   "cell_type": "code",
   "execution_count": 44,
   "id": "cbcd7042",
   "metadata": {
    "execution": {
     "iopub.execute_input": "2023-01-01T14:52:03.904003Z",
     "iopub.status.busy": "2023-01-01T14:52:03.903470Z",
     "iopub.status.idle": "2023-01-01T14:52:03.911053Z",
     "shell.execute_reply": "2023-01-01T14:52:03.909728Z"
    },
    "id": "NbKysqrSaQ32",
    "outputId": "24dc8b16-76dc-4209-a1b3-b997c5b03879",
    "papermill": {
     "duration": 0.039521,
     "end_time": "2023-01-01T14:52:03.913402",
     "exception": false,
     "start_time": "2023-01-01T14:52:03.873881",
     "status": "completed"
    },
    "tags": []
   },
   "outputs": [
    {
     "data": {
      "text/plain": [
       "2159"
      ]
     },
     "execution_count": 44,
     "metadata": {},
     "output_type": "execute_result"
    }
   ],
   "source": [
    "# Obtain the length of the Pandas Series\n",
    "len(sp500)"
   ]
  },
  {
   "cell_type": "code",
   "execution_count": 45,
   "id": "509e88a8",
   "metadata": {
    "execution": {
     "iopub.execute_input": "2023-01-01T14:52:03.971177Z",
     "iopub.status.busy": "2023-01-01T14:52:03.970743Z",
     "iopub.status.idle": "2023-01-01T14:52:03.978389Z",
     "shell.execute_reply": "2023-01-01T14:52:03.977274Z"
    },
    "id": "FeeA8actaQ6P",
    "outputId": "b1839e35-4400-499c-c878-a36013346d9b",
    "papermill": {
     "duration": 0.039259,
     "end_time": "2023-01-01T14:52:03.980689",
     "exception": false,
     "start_time": "2023-01-01T14:52:03.941430",
     "status": "completed"
    },
    "tags": []
   },
   "outputs": [
    {
     "data": {
      "text/plain": [
       "3386.149902"
      ]
     },
     "execution_count": 45,
     "metadata": {},
     "output_type": "execute_result"
    }
   ],
   "source": [
    "# Obtain the maximum value of the Pandas Series\n",
    "max(sp500)"
   ]
  },
  {
   "cell_type": "code",
   "execution_count": 46,
   "id": "61a8bc56",
   "metadata": {
    "execution": {
     "iopub.execute_input": "2023-01-01T14:52:04.039562Z",
     "iopub.status.busy": "2023-01-01T14:52:04.039176Z",
     "iopub.status.idle": "2023-01-01T14:52:04.045976Z",
     "shell.execute_reply": "2023-01-01T14:52:04.044883Z"
    },
    "id": "fyhw96-JaQ8a",
    "outputId": "0c4935a6-d1ce-445a-d32a-e13c8ddb5336",
    "papermill": {
     "duration": 0.040388,
     "end_time": "2023-01-01T14:52:04.048612",
     "exception": false,
     "start_time": "2023-01-01T14:52:04.008224",
     "status": "completed"
    },
    "tags": []
   },
   "outputs": [
    {
     "data": {
      "text/plain": [
       "1278.040039"
      ]
     },
     "execution_count": 46,
     "metadata": {},
     "output_type": "execute_result"
    }
   ],
   "source": [
    "# Obtain the minimum value of the Pandas Series\n",
    "min(sp500)"
   ]
  },
  {
   "cell_type": "markdown",
   "id": "7429474e",
   "metadata": {
    "id": "NCnRK6oMVCtg",
    "papermill": {
     "duration": 0.028096,
     "end_time": "2023-01-01T14:52:04.105655",
     "exception": false,
     "start_time": "2023-01-01T14:52:04.077559",
     "status": "completed"
    },
    "tags": []
   },
   "source": [
    "**MINI CHALLENGE #7:**\n",
    "- **Given the following Pandas Series, convert all positive values to negative using python built-in functions**\n",
    "- **Obtain only unique values (ie: Remove duplicates) using python built-in functions**\n",
    "- **my_series = pd.Series(data = [-10, 100, -30, 50, 100])**\n"
   ]
  },
  {
   "cell_type": "code",
   "execution_count": 47,
   "id": "f34eb5b6",
   "metadata": {
    "execution": {
     "iopub.execute_input": "2023-01-01T14:52:04.163948Z",
     "iopub.status.busy": "2023-01-01T14:52:04.163180Z",
     "iopub.status.idle": "2023-01-01T14:52:04.171904Z",
     "shell.execute_reply": "2023-01-01T14:52:04.170866Z"
    },
    "id": "DG-Tjp6PVEpW",
    "outputId": "08a9c790-fccc-4736-e510-8688669505e0",
    "papermill": {
     "duration": 0.04073,
     "end_time": "2023-01-01T14:52:04.174270",
     "exception": false,
     "start_time": "2023-01-01T14:52:04.133540",
     "status": "completed"
    },
    "tags": []
   },
   "outputs": [
    {
     "data": {
      "text/plain": [
       "0      -1295.500000\n",
       "1      -1289.089966\n",
       "2      -1293.670044\n",
       "3      -1308.040039\n",
       "4      -1314.500000\n",
       "           ...     \n",
       "2154   -3327.770020\n",
       "2155   -3349.159912\n",
       "2156   -3351.280029\n",
       "2157   -3360.469971\n",
       "2158   -3333.689941\n",
       "Name: sp500, Length: 2159, dtype: float64"
      ]
     },
     "execution_count": 47,
     "metadata": {},
     "output_type": "execute_result"
    }
   ],
   "source": [
    "-abs(sp500)"
   ]
  },
  {
   "cell_type": "code",
   "execution_count": 48,
   "id": "8820eb14",
   "metadata": {
    "execution": {
     "iopub.execute_input": "2023-01-01T14:52:04.235885Z",
     "iopub.status.busy": "2023-01-01T14:52:04.235049Z",
     "iopub.status.idle": "2023-01-01T14:52:04.243570Z",
     "shell.execute_reply": "2023-01-01T14:52:04.242217Z"
    },
    "id": "KQuabt2yCeLw",
    "outputId": "9e713785-aeb8-4a5d-893b-d376e812528e",
    "papermill": {
     "duration": 0.041568,
     "end_time": "2023-01-01T14:52:04.245905",
     "exception": false,
     "start_time": "2023-01-01T14:52:04.204337",
     "status": "completed"
    },
    "tags": []
   },
   "outputs": [
    {
     "data": {
      "text/plain": [
       "False"
      ]
     },
     "execution_count": 48,
     "metadata": {},
     "output_type": "execute_result"
    }
   ],
   "source": [
    "sp500.is_unique"
   ]
  },
  {
   "cell_type": "code",
   "execution_count": 49,
   "id": "ef067af3",
   "metadata": {
    "execution": {
     "iopub.execute_input": "2023-01-01T14:52:04.304158Z",
     "iopub.status.busy": "2023-01-01T14:52:04.303338Z",
     "iopub.status.idle": "2023-01-01T14:52:04.312702Z",
     "shell.execute_reply": "2023-01-01T14:52:04.311648Z"
    },
    "id": "4P1KQ2ftCITK",
    "outputId": "0bacf6f9-ae70-4a11-cb04-06551682d553",
    "papermill": {
     "duration": 0.040404,
     "end_time": "2023-01-01T14:52:04.314981",
     "exception": false,
     "start_time": "2023-01-01T14:52:04.274577",
     "status": "completed"
    },
    "tags": []
   },
   "outputs": [
    {
     "data": {
      "text/plain": [
       "0       1295.500000\n",
       "1       1289.089966\n",
       "2       1293.670044\n",
       "3       1308.040039\n",
       "4       1314.500000\n",
       "           ...     \n",
       "2154    3327.770020\n",
       "2155    3349.159912\n",
       "2156    3351.280029\n",
       "2157    3360.469971\n",
       "2158    3333.689941\n",
       "Name: sp500, Length: 2147, dtype: float64"
      ]
     },
     "execution_count": 49,
     "metadata": {},
     "output_type": "execute_result"
    }
   ],
   "source": [
    "sp500 = sp500.drop_duplicates()\n",
    "sp500"
   ]
  },
  {
   "cell_type": "code",
   "execution_count": 50,
   "id": "70829e74",
   "metadata": {
    "execution": {
     "iopub.execute_input": "2023-01-01T14:52:04.373588Z",
     "iopub.status.busy": "2023-01-01T14:52:04.372728Z",
     "iopub.status.idle": "2023-01-01T14:52:04.380063Z",
     "shell.execute_reply": "2023-01-01T14:52:04.378855Z"
    },
    "id": "TxxsHUdaC1--",
    "outputId": "3331a53e-e85b-4780-ef9f-34b2893ef258",
    "papermill": {
     "duration": 0.040197,
     "end_time": "2023-01-01T14:52:04.382445",
     "exception": false,
     "start_time": "2023-01-01T14:52:04.342248",
     "status": "completed"
    },
    "tags": []
   },
   "outputs": [
    {
     "data": {
      "text/plain": [
       "True"
      ]
     },
     "execution_count": 50,
     "metadata": {},
     "output_type": "execute_result"
    }
   ],
   "source": [
    "sp500.is_unique"
   ]
  },
  {
   "cell_type": "markdown",
   "id": "7acfb201",
   "metadata": {
    "id": "oA3Uh0DHFAA9",
    "papermill": {
     "duration": 0.02683,
     "end_time": "2023-01-01T14:52:04.437583",
     "exception": false,
     "start_time": "2023-01-01T14:52:04.410753",
     "status": "completed"
    },
    "tags": []
   },
   "source": [
    "The real soln"
   ]
  },
  {
   "cell_type": "code",
   "execution_count": 51,
   "id": "4015d5c5",
   "metadata": {
    "execution": {
     "iopub.execute_input": "2023-01-01T14:52:04.495928Z",
     "iopub.status.busy": "2023-01-01T14:52:04.495484Z",
     "iopub.status.idle": "2023-01-01T14:52:04.503711Z",
     "shell.execute_reply": "2023-01-01T14:52:04.502824Z"
    },
    "id": "6Ad4fp1HFIBc",
    "outputId": "f7db1f96-6967-44ac-dbe4-72e1f0fb0a7f",
    "papermill": {
     "duration": 0.040354,
     "end_time": "2023-01-01T14:52:04.505821",
     "exception": false,
     "start_time": "2023-01-01T14:52:04.465467",
     "status": "completed"
    },
    "tags": []
   },
   "outputs": [
    {
     "data": {
      "text/plain": [
       "0    -10\n",
       "1    100\n",
       "2    -30\n",
       "3     50\n",
       "4    100\n",
       "dtype: int64"
      ]
     },
     "execution_count": 51,
     "metadata": {},
     "output_type": "execute_result"
    }
   ],
   "source": [
    "my_series = pd.Series(data = [-10, 100, -30, 50, 100])\n",
    "my_series"
   ]
  },
  {
   "cell_type": "code",
   "execution_count": 52,
   "id": "d4fbfbbc",
   "metadata": {
    "execution": {
     "iopub.execute_input": "2023-01-01T14:52:04.565311Z",
     "iopub.status.busy": "2023-01-01T14:52:04.564879Z",
     "iopub.status.idle": "2023-01-01T14:52:04.573304Z",
     "shell.execute_reply": "2023-01-01T14:52:04.572137Z"
    },
    "id": "rQi0W3EbFxsO",
    "outputId": "633e9184-3184-42cb-8d62-24278a7fbf1b",
    "papermill": {
     "duration": 0.041053,
     "end_time": "2023-01-01T14:52:04.575657",
     "exception": false,
     "start_time": "2023-01-01T14:52:04.534604",
     "status": "completed"
    },
    "tags": []
   },
   "outputs": [
    {
     "data": {
      "text/plain": [
       "0     10\n",
       "1    100\n",
       "2     30\n",
       "3     50\n",
       "4    100\n",
       "dtype: int64"
      ]
     },
     "execution_count": 52,
     "metadata": {},
     "output_type": "execute_result"
    }
   ],
   "source": [
    "abs(my_series)"
   ]
  },
  {
   "cell_type": "code",
   "execution_count": 53,
   "id": "c197779b",
   "metadata": {
    "execution": {
     "iopub.execute_input": "2023-01-01T14:52:04.632980Z",
     "iopub.status.busy": "2023-01-01T14:52:04.632524Z",
     "iopub.status.idle": "2023-01-01T14:52:04.639393Z",
     "shell.execute_reply": "2023-01-01T14:52:04.638290Z"
    },
    "id": "CWivxVUJGiB1",
    "outputId": "5c248ced-bffe-4441-94e0-d7c8e15d5cfc",
    "papermill": {
     "duration": 0.037896,
     "end_time": "2023-01-01T14:52:04.641632",
     "exception": false,
     "start_time": "2023-01-01T14:52:04.603736",
     "status": "completed"
    },
    "tags": []
   },
   "outputs": [
    {
     "data": {
      "text/plain": [
       "{-30, -10, 50, 100}"
      ]
     },
     "execution_count": 53,
     "metadata": {},
     "output_type": "execute_result"
    }
   ],
   "source": [
    "set(my_series)"
   ]
  },
  {
   "cell_type": "markdown",
   "id": "4afdf896",
   "metadata": {
    "id": "LKDuJ94RvB85",
    "papermill": {
     "duration": 0.027161,
     "end_time": "2023-01-01T14:52:04.698165",
     "exception": false,
     "start_time": "2023-01-01T14:52:04.671004",
     "status": "completed"
    },
    "tags": []
   },
   "source": [
    "# 8. SORTING PANDAS SERIES"
   ]
  },
  {
   "cell_type": "code",
   "execution_count": 54,
   "id": "8db9bc5e",
   "metadata": {
    "execution": {
     "iopub.execute_input": "2023-01-01T14:52:04.755413Z",
     "iopub.status.busy": "2023-01-01T14:52:04.755023Z",
     "iopub.status.idle": "2023-01-01T14:52:04.767284Z",
     "shell.execute_reply": "2023-01-01T14:52:04.765869Z"
    },
    "id": "f-aRTmn9u7DA",
    "outputId": "2f05279f-57cc-4789-eb95-2040865e1407",
    "papermill": {
     "duration": 0.043765,
     "end_time": "2023-01-01T14:52:04.769527",
     "exception": false,
     "start_time": "2023-01-01T14:52:04.725762",
     "status": "completed"
    },
    "tags": []
   },
   "outputs": [
    {
     "data": {
      "text/plain": [
       "0       1295.500000\n",
       "1       1289.089966\n",
       "2       1293.670044\n",
       "3       1308.040039\n",
       "4       1314.500000\n",
       "           ...     \n",
       "2154    3327.770020\n",
       "2155    3349.159912\n",
       "2156    3351.280029\n",
       "2157    3360.469971\n",
       "2158    3333.689941\n",
       "Name: sp500, Length: 2159, dtype: float64"
      ]
     },
     "execution_count": 54,
     "metadata": {},
     "output_type": "execute_result"
    }
   ],
   "source": [
    "# Let's import CSV data as follows:\n",
    "sp500_3 = pd.read_csv('/kaggle/input/sp500prices/S_P500_Prices.csv', squeeze=True)\n",
    "sp500_3"
   ]
  },
  {
   "cell_type": "code",
   "execution_count": 55,
   "id": "fcfcb47c",
   "metadata": {
    "execution": {
     "iopub.execute_input": "2023-01-01T14:52:04.827648Z",
     "iopub.status.busy": "2023-01-01T14:52:04.826878Z",
     "iopub.status.idle": "2023-01-01T14:52:04.837008Z",
     "shell.execute_reply": "2023-01-01T14:52:04.835899Z"
    },
    "id": "DaglhPNevFYC",
    "outputId": "758aad86-5dae-4588-a34d-b74d8921370f",
    "papermill": {
     "duration": 0.041912,
     "end_time": "2023-01-01T14:52:04.839391",
     "exception": false,
     "start_time": "2023-01-01T14:52:04.797479",
     "status": "completed"
    },
    "tags": []
   },
   "outputs": [
    {
     "data": {
      "text/plain": [
       "97      1278.040039\n",
       "98      1278.180054\n",
       "99      1285.500000\n",
       "1       1289.089966\n",
       "2       1293.670044\n",
       "           ...     \n",
       "2038    3373.229980\n",
       "2034    3373.939941\n",
       "2033    3379.449951\n",
       "2035    3380.159912\n",
       "2037    3386.149902\n",
       "Name: sp500, Length: 2159, dtype: float64"
      ]
     },
     "execution_count": 55,
     "metadata": {},
     "output_type": "execute_result"
    }
   ],
   "source": [
    "# You can sort the values in the dataframe as follows\n",
    "sp500_3.sort_values()"
   ]
  },
  {
   "cell_type": "code",
   "execution_count": 56,
   "id": "bdd83258",
   "metadata": {
    "execution": {
     "iopub.execute_input": "2023-01-01T14:52:04.900498Z",
     "iopub.status.busy": "2023-01-01T14:52:04.900063Z",
     "iopub.status.idle": "2023-01-01T14:52:04.908348Z",
     "shell.execute_reply": "2023-01-01T14:52:04.907351Z"
    },
    "id": "AjzLtDlevFaW",
    "outputId": "9ebef3dd-9bf4-4781-dc5d-f7fa0a7b4368",
    "papermill": {
     "duration": 0.041332,
     "end_time": "2023-01-01T14:52:04.910458",
     "exception": false,
     "start_time": "2023-01-01T14:52:04.869126",
     "status": "completed"
    },
    "tags": []
   },
   "outputs": [
    {
     "data": {
      "text/plain": [
       "0       1295.500000\n",
       "1       1289.089966\n",
       "2       1293.670044\n",
       "3       1308.040039\n",
       "4       1314.500000\n",
       "           ...     \n",
       "2154    3327.770020\n",
       "2155    3349.159912\n",
       "2156    3351.280029\n",
       "2157    3360.469971\n",
       "2158    3333.689941\n",
       "Name: sp500, Length: 2159, dtype: float64"
      ]
     },
     "execution_count": 56,
     "metadata": {},
     "output_type": "execute_result"
    }
   ],
   "source": [
    "# Let's view Pandas Series again after sorting, Note that nothing changed in memory! you have to make sure that inplace is set to True\n",
    "sp500_3"
   ]
  },
  {
   "cell_type": "code",
   "execution_count": 57,
   "id": "41b14498",
   "metadata": {
    "execution": {
     "iopub.execute_input": "2023-01-01T14:52:04.972632Z",
     "iopub.status.busy": "2023-01-01T14:52:04.972206Z",
     "iopub.status.idle": "2023-01-01T14:52:04.981103Z",
     "shell.execute_reply": "2023-01-01T14:52:04.980188Z"
    },
    "id": "Pgt25eXmvFce",
    "outputId": "0ab2b0cb-217d-4b92-d291-7d49682cdf9d",
    "papermill": {
     "duration": 0.042214,
     "end_time": "2023-01-01T14:52:04.983158",
     "exception": false,
     "start_time": "2023-01-01T14:52:04.940944",
     "status": "completed"
    },
    "tags": []
   },
   "outputs": [
    {
     "data": {
      "text/plain": [
       "97      1278.040039\n",
       "98      1278.180054\n",
       "99      1285.500000\n",
       "1       1289.089966\n",
       "2       1293.670044\n",
       "           ...     \n",
       "2038    3373.229980\n",
       "2034    3373.939941\n",
       "2033    3379.449951\n",
       "2035    3380.159912\n",
       "2037    3386.149902\n",
       "Name: sp500, Length: 2159, dtype: float64"
      ]
     },
     "execution_count": 57,
     "metadata": {},
     "output_type": "execute_result"
    }
   ],
   "source": [
    "# Set inplace = True to ensure that change has taken place in memory \n",
    "sp500_3.sort_values(inplace=True)\n",
    "sp500_3"
   ]
  },
  {
   "cell_type": "code",
   "execution_count": 58,
   "id": "cafa2efc",
   "metadata": {
    "execution": {
     "iopub.execute_input": "2023-01-01T14:52:05.047458Z",
     "iopub.status.busy": "2023-01-01T14:52:05.046462Z",
     "iopub.status.idle": "2023-01-01T14:52:05.054696Z",
     "shell.execute_reply": "2023-01-01T14:52:05.053597Z"
    },
    "id": "jEw2Gw_hu7Fo",
    "outputId": "99998b92-4f82-49ae-c660-c18e36ad9526",
    "papermill": {
     "duration": 0.043327,
     "end_time": "2023-01-01T14:52:05.057190",
     "exception": false,
     "start_time": "2023-01-01T14:52:05.013863",
     "status": "completed"
    },
    "tags": []
   },
   "outputs": [
    {
     "data": {
      "text/plain": [
       "97      1278.040039\n",
       "98      1278.180054\n",
       "99      1285.500000\n",
       "1       1289.089966\n",
       "2       1293.670044\n",
       "           ...     \n",
       "2038    3373.229980\n",
       "2034    3373.939941\n",
       "2033    3379.449951\n",
       "2035    3380.159912\n",
       "2037    3386.149902\n",
       "Name: sp500, Length: 2159, dtype: float64"
      ]
     },
     "execution_count": 58,
     "metadata": {},
     "output_type": "execute_result"
    }
   ],
   "source": [
    "# Note that now the change (ordering) took place \n",
    "sp500_3"
   ]
  },
  {
   "cell_type": "code",
   "execution_count": 59,
   "id": "2975b006",
   "metadata": {
    "execution": {
     "iopub.execute_input": "2023-01-01T14:52:05.118681Z",
     "iopub.status.busy": "2023-01-01T14:52:05.118193Z",
     "iopub.status.idle": "2023-01-01T14:52:05.131334Z",
     "shell.execute_reply": "2023-01-01T14:52:05.130082Z"
    },
    "id": "6wi0QnU5iGk8",
    "outputId": "50eff0b4-c971-47e8-9cde-389732b11275",
    "papermill": {
     "duration": 0.046615,
     "end_time": "2023-01-01T14:52:05.133720",
     "exception": false,
     "start_time": "2023-01-01T14:52:05.087105",
     "status": "completed"
    },
    "tags": []
   },
   "outputs": [
    {
     "data": {
      "text/plain": [
       "0       1295.500000\n",
       "1       1289.089966\n",
       "2       1293.670044\n",
       "3       1308.040039\n",
       "4       1314.500000\n",
       "           ...     \n",
       "2154    3327.770020\n",
       "2155    3349.159912\n",
       "2156    3351.280029\n",
       "2157    3360.469971\n",
       "2158    3333.689941\n",
       "Name: sp500, Length: 2159, dtype: float64"
      ]
     },
     "execution_count": 59,
     "metadata": {},
     "output_type": "execute_result"
    }
   ],
   "source": [
    "# Notice that the indexes are now changed \n",
    "# You can also sort by index (revert back to the original Pandas Series) as follows: \n",
    "sp500_3.sort_index(inplace=True)\n",
    "sp500_3"
   ]
  },
  {
   "cell_type": "markdown",
   "id": "55065ae4",
   "metadata": {
    "id": "7bV_Yaq46ZTg",
    "papermill": {
     "duration": 0.030728,
     "end_time": "2023-01-01T14:52:05.194531",
     "exception": false,
     "start_time": "2023-01-01T14:52:05.163803",
     "status": "completed"
    },
    "tags": []
   },
   "source": [
    "**MINI CHALLENGE #8:**\n",
    "- **Sort the S&P500 values in a decending order instead. Make sure to update values in-memory.**"
   ]
  },
  {
   "cell_type": "code",
   "execution_count": 60,
   "id": "4f9ddb8e",
   "metadata": {
    "execution": {
     "iopub.execute_input": "2023-01-01T14:52:05.254505Z",
     "iopub.status.busy": "2023-01-01T14:52:05.254110Z",
     "iopub.status.idle": "2023-01-01T14:52:05.263676Z",
     "shell.execute_reply": "2023-01-01T14:52:05.262495Z"
    },
    "id": "zw0acoYEkDJB",
    "outputId": "328b2386-fb40-4437-d8d4-6dba2aaa8f36",
    "papermill": {
     "duration": 0.042145,
     "end_time": "2023-01-01T14:52:05.266084",
     "exception": false,
     "start_time": "2023-01-01T14:52:05.223939",
     "status": "completed"
    },
    "tags": []
   },
   "outputs": [
    {
     "data": {
      "text/plain": [
       "2037    3386.149902\n",
       "2035    3380.159912\n",
       "2033    3379.449951\n",
       "2034    3373.939941\n",
       "2038    3373.229980\n",
       "           ...     \n",
       "2       1293.670044\n",
       "1       1289.089966\n",
       "99      1285.500000\n",
       "98      1278.180054\n",
       "97      1278.040039\n",
       "Name: sp500, Length: 2159, dtype: float64"
      ]
     },
     "execution_count": 60,
     "metadata": {},
     "output_type": "execute_result"
    }
   ],
   "source": [
    "sp500_3.sort_values(ascending=False, inplace=True)\n",
    "sp500_3"
   ]
  },
  {
   "cell_type": "markdown",
   "id": "3b8f4fdf",
   "metadata": {
    "id": "1QT7bBFCkDhh",
    "papermill": {
     "duration": 0.028313,
     "end_time": "2023-01-01T14:52:05.323011",
     "exception": false,
     "start_time": "2023-01-01T14:52:05.294698",
     "status": "completed"
    },
    "tags": []
   },
   "source": [
    "# 9. PERFORM MATH OPERATIONS ON PANDAS SERIES"
   ]
  },
  {
   "cell_type": "code",
   "execution_count": 61,
   "id": "adda8e49",
   "metadata": {
    "execution": {
     "iopub.execute_input": "2023-01-01T14:52:05.385607Z",
     "iopub.status.busy": "2023-01-01T14:52:05.385228Z",
     "iopub.status.idle": "2023-01-01T14:52:05.398585Z",
     "shell.execute_reply": "2023-01-01T14:52:05.397469Z"
    },
    "id": "UXFGCV4SkI4O",
    "outputId": "9c6a513b-1a19-47d2-838e-9a31926d12bb",
    "papermill": {
     "duration": 0.04779,
     "end_time": "2023-01-01T14:52:05.400869",
     "exception": false,
     "start_time": "2023-01-01T14:52:05.353079",
     "status": "completed"
    },
    "tags": []
   },
   "outputs": [
    {
     "data": {
      "text/plain": [
       "0       1295.500000\n",
       "1       1289.089966\n",
       "2       1293.670044\n",
       "3       1308.040039\n",
       "4       1314.500000\n",
       "           ...     \n",
       "2154    3327.770020\n",
       "2155    3349.159912\n",
       "2156    3351.280029\n",
       "2157    3360.469971\n",
       "2158    3333.689941\n",
       "Name: sp500, Length: 2159, dtype: float64"
      ]
     },
     "execution_count": 61,
     "metadata": {},
     "output_type": "execute_result"
    }
   ],
   "source": [
    "# Let's import CSV data as follows:\n",
    "sp500_4 = pd.read_csv('/kaggle/input/sp500prices/S_P500_Prices.csv', squeeze=True)\n",
    "sp500_4"
   ]
  },
  {
   "cell_type": "code",
   "execution_count": 62,
   "id": "7033fd44",
   "metadata": {
    "execution": {
     "iopub.execute_input": "2023-01-01T14:52:05.462984Z",
     "iopub.status.busy": "2023-01-01T14:52:05.462498Z",
     "iopub.status.idle": "2023-01-01T14:52:05.469125Z",
     "shell.execute_reply": "2023-01-01T14:52:05.467985Z"
    },
    "id": "Qpo7M9yYkJPQ",
    "outputId": "27d6a52f-401a-48bd-ee8e-92ff7b11af23",
    "papermill": {
     "duration": 0.04142,
     "end_time": "2023-01-01T14:52:05.472171",
     "exception": false,
     "start_time": "2023-01-01T14:52:05.430751",
     "status": "completed"
    },
    "tags": []
   },
   "outputs": [
    {
     "data": {
      "text/plain": [
       "4790280.287214"
      ]
     },
     "execution_count": 62,
     "metadata": {},
     "output_type": "execute_result"
    }
   ],
   "source": [
    "# Apply Sum Method on Pandas Series\n",
    "sp500_4.sum()"
   ]
  },
  {
   "cell_type": "code",
   "execution_count": 63,
   "id": "e97cf611",
   "metadata": {
    "execution": {
     "iopub.execute_input": "2023-01-01T14:52:05.534038Z",
     "iopub.status.busy": "2023-01-01T14:52:05.533635Z",
     "iopub.status.idle": "2023-01-01T14:52:05.541200Z",
     "shell.execute_reply": "2023-01-01T14:52:05.540015Z"
    },
    "id": "FTSaQpjokJSM",
    "outputId": "93a8b61f-b629-4862-abf4-472fa2f62404",
    "papermill": {
     "duration": 0.041259,
     "end_time": "2023-01-01T14:52:05.543464",
     "exception": false,
     "start_time": "2023-01-01T14:52:05.502205",
     "status": "completed"
    },
    "tags": []
   },
   "outputs": [
    {
     "data": {
      "text/plain": [
       "2159"
      ]
     },
     "execution_count": 63,
     "metadata": {},
     "output_type": "execute_result"
    }
   ],
   "source": [
    "# Apply count Method on Pandas Series\n",
    "sp500_4.count()"
   ]
  },
  {
   "cell_type": "code",
   "execution_count": 64,
   "id": "41a00dc1",
   "metadata": {
    "execution": {
     "iopub.execute_input": "2023-01-01T14:52:05.605522Z",
     "iopub.status.busy": "2023-01-01T14:52:05.605092Z",
     "iopub.status.idle": "2023-01-01T14:52:05.611488Z",
     "shell.execute_reply": "2023-01-01T14:52:05.610675Z"
    },
    "id": "I8vVnB_5kj7C",
    "outputId": "af65f47a-dcdb-4e9d-96af-af52ecb68be5",
    "papermill": {
     "duration": 0.039234,
     "end_time": "2023-01-01T14:52:05.613745",
     "exception": false,
     "start_time": "2023-01-01T14:52:05.574511",
     "status": "completed"
    },
    "tags": []
   },
   "outputs": [
    {
     "data": {
      "text/plain": [
       "3386.149902"
      ]
     },
     "execution_count": 64,
     "metadata": {},
     "output_type": "execute_result"
    }
   ],
   "source": [
    "# Obtain the maximum value\n",
    "sp500_4.max()"
   ]
  },
  {
   "cell_type": "code",
   "execution_count": 65,
   "id": "8925e9b4",
   "metadata": {
    "execution": {
     "iopub.execute_input": "2023-01-01T14:52:05.675777Z",
     "iopub.status.busy": "2023-01-01T14:52:05.675015Z",
     "iopub.status.idle": "2023-01-01T14:52:05.681332Z",
     "shell.execute_reply": "2023-01-01T14:52:05.680480Z"
    },
    "id": "u3-XBu-vko2y",
    "outputId": "e431844c-911c-4e74-fbc0-b8b059b3d7cd",
    "papermill": {
     "duration": 0.040233,
     "end_time": "2023-01-01T14:52:05.683520",
     "exception": false,
     "start_time": "2023-01-01T14:52:05.643287",
     "status": "completed"
    },
    "tags": []
   },
   "outputs": [
    {
     "data": {
      "text/plain": [
       "1278.040039"
      ]
     },
     "execution_count": 65,
     "metadata": {},
     "output_type": "execute_result"
    }
   ],
   "source": [
    "# Obtain the minimum value\n",
    "sp500_4.min()"
   ]
  },
  {
   "cell_type": "code",
   "execution_count": 66,
   "id": "a893e367",
   "metadata": {
    "execution": {
     "iopub.execute_input": "2023-01-01T14:52:05.748261Z",
     "iopub.status.busy": "2023-01-01T14:52:05.747750Z",
     "iopub.status.idle": "2023-01-01T14:52:05.759978Z",
     "shell.execute_reply": "2023-01-01T14:52:05.759110Z"
    },
    "id": "jfaK3BsckvAK",
    "outputId": "499c19c3-060c-4b76-98e9-936fe70286d0",
    "papermill": {
     "duration": 0.047667,
     "end_time": "2023-01-01T14:52:05.762261",
     "exception": false,
     "start_time": "2023-01-01T14:52:05.714594",
     "status": "completed"
    },
    "tags": []
   },
   "outputs": [
    {
     "data": {
      "text/plain": [
       "count    2159.000000\n",
       "mean     2218.749554\n",
       "std       537.321727\n",
       "min      1278.040039\n",
       "25%      1847.984985\n",
       "50%      2106.629883\n",
       "75%      2705.810059\n",
       "max      3386.149902\n",
       "Name: sp500, dtype: float64"
      ]
     },
     "execution_count": 66,
     "metadata": {},
     "output_type": "execute_result"
    }
   ],
   "source": [
    "# My favourite: Describe! \n",
    "# Describe is used to obtain all statistical information in one place \n",
    "\n",
    "sp500_4.describe()"
   ]
  },
  {
   "cell_type": "markdown",
   "id": "cb63dc80",
   "metadata": {
    "id": "wfpnZiwxk1cb",
    "papermill": {
     "duration": 0.029703,
     "end_time": "2023-01-01T14:52:05.821509",
     "exception": false,
     "start_time": "2023-01-01T14:52:05.791806",
     "status": "completed"
    },
    "tags": []
   },
   "source": [
    "**MINI CHALLENGE #9:**\n",
    "- **Obtain the average price of the S&P500 using two different methods**"
   ]
  },
  {
   "cell_type": "code",
   "execution_count": 67,
   "id": "926d9d13",
   "metadata": {
    "execution": {
     "iopub.execute_input": "2023-01-01T14:52:05.884759Z",
     "iopub.status.busy": "2023-01-01T14:52:05.884044Z",
     "iopub.status.idle": "2023-01-01T14:52:05.891011Z",
     "shell.execute_reply": "2023-01-01T14:52:05.889965Z"
    },
    "id": "MFL9i8NWlIH5",
    "outputId": "d49b3725-3d5b-4393-b6d2-4b654dacc7fb",
    "papermill": {
     "duration": 0.040947,
     "end_time": "2023-01-01T14:52:05.893254",
     "exception": false,
     "start_time": "2023-01-01T14:52:05.852307",
     "status": "completed"
    },
    "tags": []
   },
   "outputs": [
    {
     "data": {
      "text/plain": [
       "2218.7495540592868"
      ]
     },
     "execution_count": 67,
     "metadata": {},
     "output_type": "execute_result"
    }
   ],
   "source": [
    "sp500_4.mean()"
   ]
  },
  {
   "cell_type": "markdown",
   "id": "32e10dd4",
   "metadata": {
    "id": "Yi8uUb_eiqxo",
    "papermill": {
     "duration": 0.029247,
     "end_time": "2023-01-01T14:52:05.954351",
     "exception": false,
     "start_time": "2023-01-01T14:52:05.925104",
     "status": "completed"
    },
    "tags": []
   },
   "source": [
    "# 10. CHECK IF A GIVEN ELEMENT EXISTS IN A PANDAS SERIES"
   ]
  },
  {
   "cell_type": "code",
   "execution_count": 68,
   "id": "d4a37d79",
   "metadata": {
    "execution": {
     "iopub.execute_input": "2023-01-01T14:52:06.016057Z",
     "iopub.status.busy": "2023-01-01T14:52:06.015599Z",
     "iopub.status.idle": "2023-01-01T14:52:06.029290Z",
     "shell.execute_reply": "2023-01-01T14:52:06.028402Z"
    },
    "id": "nEQ94a2RiuiR",
    "outputId": "65edf78b-8cd0-4f97-968c-e455872c39b8",
    "papermill": {
     "duration": 0.048042,
     "end_time": "2023-01-01T14:52:06.031778",
     "exception": false,
     "start_time": "2023-01-01T14:52:05.983736",
     "status": "completed"
    },
    "tags": []
   },
   "outputs": [
    {
     "data": {
      "text/plain": [
       "0       1295.500000\n",
       "1       1289.089966\n",
       "2       1293.670044\n",
       "3       1308.040039\n",
       "4       1314.500000\n",
       "           ...     \n",
       "2154    3327.770020\n",
       "2155    3349.159912\n",
       "2156    3351.280029\n",
       "2157    3360.469971\n",
       "2158    3333.689941\n",
       "Name: sp500, Length: 2159, dtype: float64"
      ]
     },
     "execution_count": 68,
     "metadata": {},
     "output_type": "execute_result"
    }
   ],
   "source": [
    "# Let's import CSV data as follows:\n",
    "sp500_5 = pd.read_csv('/kaggle/input/sp500prices/S_P500_Prices.csv', squeeze=True)\n",
    "sp500_5"
   ]
  },
  {
   "cell_type": "code",
   "execution_count": 69,
   "id": "f8774901",
   "metadata": {
    "execution": {
     "iopub.execute_input": "2023-01-01T14:52:06.095328Z",
     "iopub.status.busy": "2023-01-01T14:52:06.094891Z",
     "iopub.status.idle": "2023-01-01T14:52:06.102237Z",
     "shell.execute_reply": "2023-01-01T14:52:06.101044Z"
    },
    "id": "x0T4h0CWi-p7",
    "outputId": "04dba05f-05ce-41f9-dd25-a3bda7f2152a",
    "papermill": {
     "duration": 0.041769,
     "end_time": "2023-01-01T14:52:06.104350",
     "exception": false,
     "start_time": "2023-01-01T14:52:06.062581",
     "status": "completed"
    },
    "tags": []
   },
   "outputs": [
    {
     "data": {
      "text/plain": [
       "True"
      ]
     },
     "execution_count": 69,
     "metadata": {},
     "output_type": "execute_result"
    }
   ],
   "source": [
    "# Check if a given number exists in a Pandas Series values\n",
    "# Returns a boolean \"True\" or \"False\"\n",
    "\n",
    "1295.500000 in sp500_5.values"
   ]
  },
  {
   "cell_type": "code",
   "execution_count": 70,
   "id": "a2d3cdd1",
   "metadata": {
    "execution": {
     "iopub.execute_input": "2023-01-01T14:52:06.166754Z",
     "iopub.status.busy": "2023-01-01T14:52:06.166022Z",
     "iopub.status.idle": "2023-01-01T14:52:06.172614Z",
     "shell.execute_reply": "2023-01-01T14:52:06.171866Z"
    },
    "id": "xa7GXwbhi-sh",
    "outputId": "6f11f050-3ed2-4391-9d64-07625fb70016",
    "papermill": {
     "duration": 0.039977,
     "end_time": "2023-01-01T14:52:06.174914",
     "exception": false,
     "start_time": "2023-01-01T14:52:06.134937",
     "status": "completed"
    },
    "tags": []
   },
   "outputs": [
    {
     "data": {
      "text/plain": [
       "False"
      ]
     },
     "execution_count": 70,
     "metadata": {},
     "output_type": "execute_result"
    }
   ],
   "source": [
    "# Check if a given number exists in a Pandas Series index\n",
    "32.5 in sp500_5.index"
   ]
  },
  {
   "cell_type": "code",
   "execution_count": 71,
   "id": "cbe77ab7",
   "metadata": {
    "execution": {
     "iopub.execute_input": "2023-01-01T14:52:06.236801Z",
     "iopub.status.busy": "2023-01-01T14:52:06.235962Z",
     "iopub.status.idle": "2023-01-01T14:52:06.242042Z",
     "shell.execute_reply": "2023-01-01T14:52:06.240914Z"
    },
    "id": "GyN5iG1ki-vC",
    "outputId": "ef017197-91d6-461b-b253-52cb89fcc09d",
    "papermill": {
     "duration": 0.03951,
     "end_time": "2023-01-01T14:52:06.244163",
     "exception": false,
     "start_time": "2023-01-01T14:52:06.204653",
     "status": "completed"
    },
    "tags": []
   },
   "outputs": [
    {
     "data": {
      "text/plain": [
       "True"
      ]
     },
     "execution_count": 71,
     "metadata": {},
     "output_type": "execute_result"
    }
   ],
   "source": [
    "# Note that by default 'in' will search in Pandas index and not values\n",
    "45 in sp500_5"
   ]
  },
  {
   "cell_type": "markdown",
   "id": "de47cf6c",
   "metadata": {
    "id": "DjNoVv5vb9ij",
    "papermill": {
     "duration": 0.029391,
     "end_time": "2023-01-01T14:52:06.303552",
     "exception": false,
     "start_time": "2023-01-01T14:52:06.274161",
     "status": "completed"
    },
    "tags": []
   },
   "source": [
    "**MINI CHALLENGE #10:**\n",
    "- **Check if the stock price 3349 exists in the sp500 Pandas Series or not**\n",
    "- **Round stock prices to the nearest integer and check again**"
   ]
  },
  {
   "cell_type": "code",
   "execution_count": 72,
   "id": "bf285d62",
   "metadata": {
    "execution": {
     "iopub.execute_input": "2023-01-01T14:52:06.365396Z",
     "iopub.status.busy": "2023-01-01T14:52:06.364495Z",
     "iopub.status.idle": "2023-01-01T14:52:06.371178Z",
     "shell.execute_reply": "2023-01-01T14:52:06.370146Z"
    },
    "id": "3BYcu1gpb_Vo",
    "outputId": "c296ceff-ca2d-4b0c-9252-1f91ea0abab0",
    "papermill": {
     "duration": 0.039951,
     "end_time": "2023-01-01T14:52:06.373526",
     "exception": false,
     "start_time": "2023-01-01T14:52:06.333575",
     "status": "completed"
    },
    "tags": []
   },
   "outputs": [
    {
     "data": {
      "text/plain": [
       "False"
      ]
     },
     "execution_count": 72,
     "metadata": {},
     "output_type": "execute_result"
    }
   ],
   "source": [
    "3349 in sp500_5.values"
   ]
  },
  {
   "cell_type": "code",
   "execution_count": 73,
   "id": "a597f042",
   "metadata": {
    "execution": {
     "iopub.execute_input": "2023-01-01T14:52:06.439941Z",
     "iopub.status.busy": "2023-01-01T14:52:06.439445Z",
     "iopub.status.idle": "2023-01-01T14:52:06.449036Z",
     "shell.execute_reply": "2023-01-01T14:52:06.447775Z"
    },
    "id": "dIGuVYCyQltB",
    "outputId": "5a480062-7136-45c0-e0c7-308535a75b79",
    "papermill": {
     "duration": 0.045717,
     "end_time": "2023-01-01T14:52:06.451499",
     "exception": false,
     "start_time": "2023-01-01T14:52:06.405782",
     "status": "completed"
    },
    "tags": []
   },
   "outputs": [
    {
     "data": {
      "text/plain": [
       "0       1296.0\n",
       "1       1289.0\n",
       "2       1294.0\n",
       "3       1308.0\n",
       "4       1314.0\n",
       "         ...  \n",
       "2154    3328.0\n",
       "2155    3349.0\n",
       "2156    3351.0\n",
       "2157    3360.0\n",
       "2158    3334.0\n",
       "Name: sp500, Length: 2159, dtype: float64"
      ]
     },
     "execution_count": 73,
     "metadata": {},
     "output_type": "execute_result"
    }
   ],
   "source": [
    "sp500_5 = round(sp500_5)\n",
    "sp500_5"
   ]
  },
  {
   "cell_type": "code",
   "execution_count": 74,
   "id": "6e6177ff",
   "metadata": {
    "execution": {
     "iopub.execute_input": "2023-01-01T14:52:06.516428Z",
     "iopub.status.busy": "2023-01-01T14:52:06.515782Z",
     "iopub.status.idle": "2023-01-01T14:52:06.522829Z",
     "shell.execute_reply": "2023-01-01T14:52:06.521776Z"
    },
    "id": "__BtPR7eRqrs",
    "outputId": "508f43b0-9689-45fa-dd10-a0b7392c6907",
    "papermill": {
     "duration": 0.04219,
     "end_time": "2023-01-01T14:52:06.525275",
     "exception": false,
     "start_time": "2023-01-01T14:52:06.483085",
     "status": "completed"
    },
    "tags": []
   },
   "outputs": [
    {
     "data": {
      "text/plain": [
       "True"
      ]
     },
     "execution_count": 74,
     "metadata": {},
     "output_type": "execute_result"
    }
   ],
   "source": [
    "3349 in sp500_5.values"
   ]
  },
  {
   "cell_type": "markdown",
   "id": "736c4d7f",
   "metadata": {
    "id": "Vrv6ZboqmGmx",
    "papermill": {
     "duration": 0.031031,
     "end_time": "2023-01-01T14:52:06.588005",
     "exception": false,
     "start_time": "2023-01-01T14:52:06.556974",
     "status": "completed"
    },
    "tags": []
   },
   "source": [
    "# 11. INDEXING: OBTAIN SPECIFIC ELEMENTS FROM PANDAS SERIES"
   ]
  },
  {
   "cell_type": "code",
   "execution_count": 75,
   "id": "ba4d37c3",
   "metadata": {
    "execution": {
     "iopub.execute_input": "2023-01-01T14:52:06.652480Z",
     "iopub.status.busy": "2023-01-01T14:52:06.652081Z",
     "iopub.status.idle": "2023-01-01T14:52:06.663898Z",
     "shell.execute_reply": "2023-01-01T14:52:06.662760Z"
    },
    "id": "XlMcpqkbjMI1",
    "outputId": "93eb1eac-38f6-4584-9c17-ace86bf6634a",
    "papermill": {
     "duration": 0.046782,
     "end_time": "2023-01-01T14:52:06.666139",
     "exception": false,
     "start_time": "2023-01-01T14:52:06.619357",
     "status": "completed"
    },
    "tags": []
   },
   "outputs": [
    {
     "data": {
      "text/plain": [
       "0       1295.500000\n",
       "1       1289.089966\n",
       "2       1293.670044\n",
       "3       1308.040039\n",
       "4       1314.500000\n",
       "           ...     \n",
       "2154    3327.770020\n",
       "2155    3349.159912\n",
       "2156    3351.280029\n",
       "2157    3360.469971\n",
       "2158    3333.689941\n",
       "Name: sp500, Length: 2159, dtype: float64"
      ]
     },
     "execution_count": 75,
     "metadata": {},
     "output_type": "execute_result"
    }
   ],
   "source": [
    "# Let's import CSV data as follows:\n",
    "\n",
    "sp500_6 = pd.read_csv('/kaggle/input/sp500prices/S_P500_Prices.csv', squeeze=True)\n",
    "sp500_6"
   ]
  },
  {
   "cell_type": "code",
   "execution_count": 76,
   "id": "8ef8854c",
   "metadata": {
    "execution": {
     "iopub.execute_input": "2023-01-01T14:52:06.731334Z",
     "iopub.status.busy": "2023-01-01T14:52:06.730190Z",
     "iopub.status.idle": "2023-01-01T14:52:06.737598Z",
     "shell.execute_reply": "2023-01-01T14:52:06.736848Z"
    },
    "id": "5O_wKHmmmY2E",
    "outputId": "de79a074-bcdd-4eb3-8e1c-32f3113c1edb",
    "papermill": {
     "duration": 0.04286,
     "end_time": "2023-01-01T14:52:06.739642",
     "exception": false,
     "start_time": "2023-01-01T14:52:06.696782",
     "status": "completed"
    },
    "tags": []
   },
   "outputs": [
    {
     "data": {
      "text/plain": [
       "1295.5"
      ]
     },
     "execution_count": 76,
     "metadata": {},
     "output_type": "execute_result"
    }
   ],
   "source": [
    "# Obtain the first element in a Pandas Series\n",
    "# Note that first element has an index 0\n",
    "\n",
    "sp500_6[0]"
   ]
  },
  {
   "cell_type": "code",
   "execution_count": 77,
   "id": "3daf5767",
   "metadata": {
    "execution": {
     "iopub.execute_input": "2023-01-01T14:52:06.806234Z",
     "iopub.status.busy": "2023-01-01T14:52:06.805601Z",
     "iopub.status.idle": "2023-01-01T14:52:06.812446Z",
     "shell.execute_reply": "2023-01-01T14:52:06.811401Z"
    },
    "id": "QV7zW7ecmY4l",
    "outputId": "b5052fc5-b6e1-480a-e14e-55b6e6015e72",
    "papermill": {
     "duration": 0.043063,
     "end_time": "2023-01-01T14:52:06.814997",
     "exception": false,
     "start_time": "2023-01-01T14:52:06.771934",
     "status": "completed"
    },
    "tags": []
   },
   "outputs": [
    {
     "data": {
      "text/plain": [
       "1411.939941"
      ]
     },
     "execution_count": 77,
     "metadata": {},
     "output_type": "execute_result"
    }
   ],
   "source": [
    "sp500_6[200]"
   ]
  },
  {
   "cell_type": "code",
   "execution_count": 78,
   "id": "e831dc83",
   "metadata": {
    "execution": {
     "iopub.execute_input": "2023-01-01T14:52:06.884438Z",
     "iopub.status.busy": "2023-01-01T14:52:06.883569Z",
     "iopub.status.idle": "2023-01-01T14:52:06.890238Z",
     "shell.execute_reply": "2023-01-01T14:52:06.889191Z"
    },
    "id": "7wsOMwrvnHdJ",
    "outputId": "cfb1453f-763d-44d7-8f5b-7f15078e1c4c",
    "papermill": {
     "duration": 0.04355,
     "end_time": "2023-01-01T14:52:06.892519",
     "exception": false,
     "start_time": "2023-01-01T14:52:06.848969",
     "status": "completed"
    },
    "tags": []
   },
   "outputs": [
    {
     "data": {
      "text/plain": [
       "3333.689941"
      ]
     },
     "execution_count": 78,
     "metadata": {},
     "output_type": "execute_result"
    }
   ],
   "source": [
    "# Obtain the last element in the Pandas Series\n",
    "sp500_6[2158]"
   ]
  },
  {
   "cell_type": "markdown",
   "id": "fc695008",
   "metadata": {
    "id": "mIsxBKz0cUZz",
    "papermill": {
     "duration": 0.031181,
     "end_time": "2023-01-01T14:52:06.956826",
     "exception": false,
     "start_time": "2023-01-01T14:52:06.925645",
     "status": "completed"
    },
    "tags": []
   },
   "source": [
    "**MINI CHALLENGE #11:**\n",
    "- **Obtain the fifth element in the Pandas Series**"
   ]
  },
  {
   "cell_type": "code",
   "execution_count": 79,
   "id": "ca66d0cf",
   "metadata": {
    "execution": {
     "iopub.execute_input": "2023-01-01T14:52:07.022176Z",
     "iopub.status.busy": "2023-01-01T14:52:07.021118Z",
     "iopub.status.idle": "2023-01-01T14:52:07.027949Z",
     "shell.execute_reply": "2023-01-01T14:52:07.027140Z"
    },
    "id": "hPzW6L__crcc",
    "outputId": "ed8300ba-2f37-4dc3-c9aa-20e5c0b15db2",
    "papermill": {
     "duration": 0.041837,
     "end_time": "2023-01-01T14:52:07.030102",
     "exception": false,
     "start_time": "2023-01-01T14:52:06.988265",
     "status": "completed"
    },
    "tags": []
   },
   "outputs": [
    {
     "data": {
      "text/plain": [
       "1314.5"
      ]
     },
     "execution_count": 79,
     "metadata": {},
     "output_type": "execute_result"
    }
   ],
   "source": [
    "sp500_6[4]"
   ]
  },
  {
   "cell_type": "markdown",
   "id": "8c1e45ec",
   "metadata": {
    "id": "FqV5utBLnQuk",
    "papermill": {
     "duration": 0.031623,
     "end_time": "2023-01-01T14:52:07.095287",
     "exception": false,
     "start_time": "2023-01-01T14:52:07.063664",
     "status": "completed"
    },
    "tags": []
   },
   "source": [
    "# 12. SLICING: OBTAIN MULTIPLE ELEMENTS FROM PANDAS SERIES"
   ]
  },
  {
   "cell_type": "code",
   "execution_count": 80,
   "id": "a620aaf5",
   "metadata": {
    "execution": {
     "iopub.execute_input": "2023-01-01T14:52:07.159680Z",
     "iopub.status.busy": "2023-01-01T14:52:07.159242Z",
     "iopub.status.idle": "2023-01-01T14:52:07.171164Z",
     "shell.execute_reply": "2023-01-01T14:52:07.170041Z"
    },
    "id": "FnZ_HXFcnY5-",
    "outputId": "59abe94c-d4f1-4fb5-c7c7-797bbb6b413c",
    "papermill": {
     "duration": 0.045845,
     "end_time": "2023-01-01T14:52:07.173435",
     "exception": false,
     "start_time": "2023-01-01T14:52:07.127590",
     "status": "completed"
    },
    "tags": []
   },
   "outputs": [
    {
     "data": {
      "text/plain": [
       "0       1295.500000\n",
       "1       1289.089966\n",
       "2       1293.670044\n",
       "3       1308.040039\n",
       "4       1314.500000\n",
       "           ...     \n",
       "2154    3327.770020\n",
       "2155    3349.159912\n",
       "2156    3351.280029\n",
       "2157    3360.469971\n",
       "2158    3333.689941\n",
       "Name: sp500, Length: 2159, dtype: float64"
      ]
     },
     "execution_count": 80,
     "metadata": {},
     "output_type": "execute_result"
    }
   ],
   "source": [
    "# Let's import CSV data as follows:\n",
    "sp500 = pd.read_csv('/kaggle/input/sp500prices/S_P500_Prices.csv', squeeze=True)\n",
    "sp500"
   ]
  },
  {
   "cell_type": "code",
   "execution_count": 81,
   "id": "0c01fd8c",
   "metadata": {
    "execution": {
     "iopub.execute_input": "2023-01-01T14:52:07.237069Z",
     "iopub.status.busy": "2023-01-01T14:52:07.236302Z",
     "iopub.status.idle": "2023-01-01T14:52:07.243516Z",
     "shell.execute_reply": "2023-01-01T14:52:07.242747Z"
    },
    "id": "QVdRqhsbmY6X",
    "outputId": "95069ed1-33c3-4aa3-f833-96f80c1f5443",
    "papermill": {
     "duration": 0.041297,
     "end_time": "2023-01-01T14:52:07.245541",
     "exception": false,
     "start_time": "2023-01-01T14:52:07.204244",
     "status": "completed"
    },
    "tags": []
   },
   "outputs": [
    {
     "data": {
      "text/plain": [
       "0    1295.500000\n",
       "1    1289.089966\n",
       "2    1293.670044\n",
       "3    1308.040039\n",
       "4    1314.500000\n",
       "Name: sp500, dtype: float64"
      ]
     },
     "execution_count": 81,
     "metadata": {},
     "output_type": "execute_result"
    }
   ],
   "source": [
    "# Slice elements from a Pandas Series\n",
    "# Let's obtain elements starting from index 0 up until and not including index 5 (ie: indexes 0-4)\n",
    "\n",
    "sp500[0:5]"
   ]
  },
  {
   "cell_type": "code",
   "execution_count": 82,
   "id": "84016d82",
   "metadata": {
    "execution": {
     "iopub.execute_input": "2023-01-01T14:52:07.309985Z",
     "iopub.status.busy": "2023-01-01T14:52:07.309214Z",
     "iopub.status.idle": "2023-01-01T14:52:07.316710Z",
     "shell.execute_reply": "2023-01-01T14:52:07.315911Z"
    },
    "id": "YtZ4bhPKmY8S",
    "outputId": "4fac50c5-3f5b-406e-e6f0-06cfd7e18639",
    "papermill": {
     "duration": 0.041927,
     "end_time": "2023-01-01T14:52:07.318769",
     "exception": false,
     "start_time": "2023-01-01T14:52:07.276842",
     "status": "completed"
    },
    "tags": []
   },
   "outputs": [
    {
     "data": {
      "text/plain": [
       "0    1295.500000\n",
       "1    1289.089966\n",
       "2    1293.670044\n",
       "3    1308.040039\n",
       "4    1314.500000\n",
       "5    1315.380005\n",
       "6    1316.000000\n",
       "7    1314.650024\n",
       "8    1326.060059\n",
       "9    1318.430054\n",
       "Name: sp500, dtype: float64"
      ]
     },
     "execution_count": 82,
     "metadata": {},
     "output_type": "execute_result"
    }
   ],
   "source": [
    "# obtain all elements starting from index 0 up until and not including index 10\n",
    "sp500[:10]"
   ]
  },
  {
   "cell_type": "code",
   "execution_count": 83,
   "id": "fd49d9a2",
   "metadata": {
    "execution": {
     "iopub.execute_input": "2023-01-01T14:52:07.382447Z",
     "iopub.status.busy": "2023-01-01T14:52:07.382023Z",
     "iopub.status.idle": "2023-01-01T14:52:07.390784Z",
     "shell.execute_reply": "2023-01-01T14:52:07.389629Z"
    },
    "id": "tShJSc6Bmv6d",
    "outputId": "a74ba22d-4a65-4ef2-c350-0f0bc858b2bc",
    "papermill": {
     "duration": 0.043492,
     "end_time": "2023-01-01T14:52:07.393230",
     "exception": false,
     "start_time": "2023-01-01T14:52:07.349738",
     "status": "completed"
    },
    "tags": []
   },
   "outputs": [
    {
     "data": {
      "text/plain": [
       "5       1315.380005\n",
       "6       1316.000000\n",
       "7       1314.650024\n",
       "8       1326.060059\n",
       "9       1318.430054\n",
       "           ...     \n",
       "2154    3327.770020\n",
       "2155    3349.159912\n",
       "2156    3351.280029\n",
       "2157    3360.469971\n",
       "2158    3333.689941\n",
       "Name: sp500, Length: 2154, dtype: float64"
      ]
     },
     "execution_count": 83,
     "metadata": {},
     "output_type": "execute_result"
    }
   ],
   "source": [
    "# obtain all elements starting from index 5 up until the end of the Pandas Series\n",
    "sp500[5:]"
   ]
  },
  {
   "cell_type": "markdown",
   "id": "77bc451e",
   "metadata": {
    "id": "BOIQH-R7dSDy",
    "papermill": {
     "duration": 0.030694,
     "end_time": "2023-01-01T14:52:07.455365",
     "exception": false,
     "start_time": "2023-01-01T14:52:07.424671",
     "status": "completed"
    },
    "tags": []
   },
   "source": [
    "**MINI CHALLENGE #12:**\n",
    "- **Obtain all elements in Pandas Series except for the last 3 elements**"
   ]
  },
  {
   "cell_type": "code",
   "execution_count": 84,
   "id": "69c71eef",
   "metadata": {
    "execution": {
     "iopub.execute_input": "2023-01-01T14:52:07.523077Z",
     "iopub.status.busy": "2023-01-01T14:52:07.522198Z",
     "iopub.status.idle": "2023-01-01T14:52:07.530846Z",
     "shell.execute_reply": "2023-01-01T14:52:07.529857Z"
    },
    "id": "RQ0IrN4CWuPU",
    "outputId": "9bd66ee1-28b8-4cb8-8349-8ac6780e1363",
    "papermill": {
     "duration": 0.046349,
     "end_time": "2023-01-01T14:52:07.533154",
     "exception": false,
     "start_time": "2023-01-01T14:52:07.486805",
     "status": "completed"
    },
    "tags": []
   },
   "outputs": [
    {
     "data": {
      "text/plain": [
       "0       1295.500000\n",
       "1       1289.089966\n",
       "2       1293.670044\n",
       "3       1308.040039\n",
       "4       1314.500000\n",
       "           ...     \n",
       "2151    3271.120117\n",
       "2152    3294.610107\n",
       "2153    3306.510010\n",
       "2154    3327.770020\n",
       "2155    3349.159912\n",
       "Name: sp500, Length: 2156, dtype: float64"
      ]
     },
     "execution_count": 84,
     "metadata": {},
     "output_type": "execute_result"
    }
   ],
   "source": [
    "sp500[:-3]"
   ]
  }
 ],
 "metadata": {
  "kernelspec": {
   "display_name": "Python 3",
   "language": "python",
   "name": "python3"
  },
  "language_info": {
   "codemirror_mode": {
    "name": "ipython",
    "version": 3
   },
   "file_extension": ".py",
   "mimetype": "text/x-python",
   "name": "python",
   "nbconvert_exporter": "python",
   "pygments_lexer": "ipython3",
   "version": "3.7.12"
  },
  "papermill": {
   "default_parameters": {},
   "duration": 16.408581,
   "end_time": "2023-01-01T14:52:08.186736",
   "environment_variables": {},
   "exception": null,
   "input_path": "__notebook__.ipynb",
   "output_path": "__notebook__.ipynb",
   "parameters": {},
   "start_time": "2023-01-01T14:51:51.778155",
   "version": "2.3.4"
  }
 },
 "nbformat": 4,
 "nbformat_minor": 5
}
